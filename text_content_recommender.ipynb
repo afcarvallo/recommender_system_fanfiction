{
 "cells": [
  {
   "cell_type": "code",
   "execution_count": 15,
   "metadata": {
    "collapsed": true
   },
   "outputs": [],
   "source": [
    "import pandas as pd \n",
    "from sklearn.feature_extraction.text import TfidfVectorizer"
   ]
  },
  {
   "cell_type": "code",
   "execution_count": 16,
   "metadata": {},
   "outputs": [
    {
     "data": {
      "text/html": [
       "<div>\n",
       "<style>\n",
       "    .dataframe thead tr:only-child th {\n",
       "        text-align: right;\n",
       "    }\n",
       "\n",
       "    .dataframe thead th {\n",
       "        text-align: left;\n",
       "    }\n",
       "\n",
       "    .dataframe tbody tr th {\n",
       "        vertical-align: top;\n",
       "    }\n",
       "</style>\n",
       "<table border=\"1\" class=\"dataframe\">\n",
       "  <thead>\n",
       "    <tr style=\"text-align: right;\">\n",
       "      <th></th>\n",
       "      <th>user</th>\n",
       "      <th>story_id</th>\n",
       "      <th>plays</th>\n",
       "      <th>franchise_x</th>\n",
       "      <th>story_title</th>\n",
       "      <th>author</th>\n",
       "      <th>franchise_y</th>\n",
       "      <th>story_summary</th>\n",
       "      <th>q_words</th>\n",
       "      <th>date_submit</th>\n",
       "      <th>date_update</th>\n",
       "      <th>chapters</th>\n",
       "      <th>reviews</th>\n",
       "    </tr>\n",
       "  </thead>\n",
       "  <tbody>\n",
       "    <tr>\n",
       "      <th>0</th>\n",
       "      <td>752508</td>\n",
       "      <td>1984041</td>\n",
       "      <td>1</td>\n",
       "      <td>Alias</td>\n",
       "      <td>Trying to Carry On</td>\n",
       "      <td>590553.0</td>\n",
       "      <td>Alias</td>\n",
       "      <td>He had left her, her and her daughter. She wan...</td>\n",
       "      <td>51285.0</td>\n",
       "      <td>7/27/2004,9/6/2004,3/19/2005,9/6/2004,7/21/200...</td>\n",
       "      <td>11/24/2005</td>\n",
       "      <td>17.0</td>\n",
       "      <td>267.0</td>\n",
       "    </tr>\n",
       "    <tr>\n",
       "      <th>1</th>\n",
       "      <td>752508</td>\n",
       "      <td>2046469</td>\n",
       "      <td>1</td>\n",
       "      <td>Alias</td>\n",
       "      <td>A Second Chance</td>\n",
       "      <td>590553.0</td>\n",
       "      <td>Alias</td>\n",
       "      <td>SV had an affair and as a result, Sydney becam...</td>\n",
       "      <td>34944.0</td>\n",
       "      <td>7/27/2004,9/6/2004,3/19/2005,9/6/2004,7/21/200...</td>\n",
       "      <td>7/22/2005</td>\n",
       "      <td>11.0</td>\n",
       "      <td>238.0</td>\n",
       "    </tr>\n",
       "    <tr>\n",
       "      <th>2</th>\n",
       "      <td>752508</td>\n",
       "      <td>1991603</td>\n",
       "      <td>1</td>\n",
       "      <td>Alias</td>\n",
       "      <td>A Question of Fate</td>\n",
       "      <td>586795.0</td>\n",
       "      <td>Alias</td>\n",
       "      <td>SV S3.  Angst, Romance, Action, Humor aw, come...</td>\n",
       "      <td>52468.0</td>\n",
       "      <td>2/3/2005,8/1/2004,10/28/2004</td>\n",
       "      <td>6/16/2005</td>\n",
       "      <td>21.0</td>\n",
       "      <td>122.0</td>\n",
       "    </tr>\n",
       "    <tr>\n",
       "      <th>3</th>\n",
       "      <td>752508</td>\n",
       "      <td>2179554</td>\n",
       "      <td>1</td>\n",
       "      <td>Alias</td>\n",
       "      <td>The Ace of Hearts</td>\n",
       "      <td>590553.0</td>\n",
       "      <td>Alias</td>\n",
       "      <td>Sydney and Vaughn play a card game to pass the...</td>\n",
       "      <td>17342.0</td>\n",
       "      <td>7/27/2004,9/6/2004,3/19/2005,9/6/2004,7/21/200...</td>\n",
       "      <td>5/6/2005</td>\n",
       "      <td>5.0</td>\n",
       "      <td>138.0</td>\n",
       "    </tr>\n",
       "    <tr>\n",
       "      <th>4</th>\n",
       "      <td>752508</td>\n",
       "      <td>1879281</td>\n",
       "      <td>1</td>\n",
       "      <td>Alias</td>\n",
       "      <td>The Vaughn\\'s</td>\n",
       "      <td>251435.0</td>\n",
       "      <td>Alias</td>\n",
       "      <td>Sequel to 'One wedding and a near funeral.'  S...</td>\n",
       "      <td>26402.0</td>\n",
       "      <td>5/26/2004,11/15/2004,4/21/2004,3/17/2004,12/12...</td>\n",
       "      <td>2/21/2005</td>\n",
       "      <td>20.0</td>\n",
       "      <td>55.0</td>\n",
       "    </tr>\n",
       "  </tbody>\n",
       "</table>\n",
       "</div>"
      ],
      "text/plain": [
       "     user  story_id  plays franchise_x         story_title    author  \\\n",
       "0  752508   1984041      1       Alias  Trying to Carry On  590553.0   \n",
       "1  752508   2046469      1       Alias     A Second Chance  590553.0   \n",
       "2  752508   1991603      1       Alias  A Question of Fate  586795.0   \n",
       "3  752508   2179554      1       Alias   The Ace of Hearts  590553.0   \n",
       "4  752508   1879281      1       Alias       The Vaughn\\'s  251435.0   \n",
       "\n",
       "  franchise_y                                      story_summary  q_words  \\\n",
       "0       Alias  He had left her, her and her daughter. She wan...  51285.0   \n",
       "1       Alias  SV had an affair and as a result, Sydney becam...  34944.0   \n",
       "2       Alias  SV S3.  Angst, Romance, Action, Humor aw, come...  52468.0   \n",
       "3       Alias  Sydney and Vaughn play a card game to pass the...  17342.0   \n",
       "4       Alias  Sequel to 'One wedding and a near funeral.'  S...  26402.0   \n",
       "\n",
       "                                         date_submit date_update  chapters  \\\n",
       "0  7/27/2004,9/6/2004,3/19/2005,9/6/2004,7/21/200...  11/24/2005      17.0   \n",
       "1  7/27/2004,9/6/2004,3/19/2005,9/6/2004,7/21/200...   7/22/2005      11.0   \n",
       "2                       2/3/2005,8/1/2004,10/28/2004   6/16/2005      21.0   \n",
       "3  7/27/2004,9/6/2004,3/19/2005,9/6/2004,7/21/200...    5/6/2005       5.0   \n",
       "4  5/26/2004,11/15/2004,4/21/2004,3/17/2004,12/12...   2/21/2005      20.0   \n",
       "\n",
       "   reviews  \n",
       "0    267.0  \n",
       "1    238.0  \n",
       "2    122.0  \n",
       "3    138.0  \n",
       "4     55.0  "
      ]
     },
     "execution_count": 16,
     "metadata": {},
     "output_type": "execute_result"
    }
   ],
   "source": [
    "df = pd.read_csv('datasets_recsys/ff_users_fav_stories_data.csv', sep='|', encoding='latin')\n",
    "df.head()"
   ]
  },
  {
   "cell_type": "code",
   "execution_count": 17,
   "metadata": {
    "collapsed": true
   },
   "outputs": [],
   "source": [
    "tfidf = TfidfVectorizer()"
   ]
  },
  {
   "cell_type": "code",
   "execution_count": 19,
   "metadata": {},
   "outputs": [
    {
     "data": {
      "text/plain": [
       "\"He had left her, her and her daughter. She wanted nothing to do with him. What happens when he comes back and crashes the life she's tried so hard to carry on to? Season 4 spoilers inside.\""
      ]
     },
     "execution_count": 19,
     "metadata": {},
     "output_type": "execute_result"
    }
   ],
   "source": [
    "string = list(df['story_summary'])[0]\n",
    "string"
   ]
  },
  {
   "cell_type": "code",
   "execution_count": 20,
   "metadata": {},
   "outputs": [
    {
     "data": {
      "text/plain": [
       "array([[ 0.27216553,  0.13608276,  0.13608276,  0.13608276,  0.13608276,\n",
       "         0.13608276,  0.13608276,  0.13608276,  0.13608276,  0.13608276,\n",
       "         0.27216553,  0.40824829,  0.13608276,  0.13608276,  0.13608276,\n",
       "         0.13608276,  0.13608276,  0.13608276,  0.13608276,  0.27216553,\n",
       "         0.13608276,  0.13608276,  0.13608276,  0.40824829,  0.13608276,\n",
       "         0.13608276,  0.13608276,  0.13608276,  0.13608276]])"
      ]
     },
     "execution_count": 20,
     "metadata": {},
     "output_type": "execute_result"
    }
   ],
   "source": [
    "y = tfidf.fit_transform([string])\n",
    "y.toarray()"
   ]
  },
  {
   "cell_type": "code",
   "execution_count": 21,
   "metadata": {},
   "outputs": [
    {
     "data": {
      "text/plain": [
       "{'and': 0,\n",
       " 'back': 1,\n",
       " 'carry': 2,\n",
       " 'comes': 3,\n",
       " 'crashes': 4,\n",
       " 'daughter': 5,\n",
       " 'do': 6,\n",
       " 'had': 7,\n",
       " 'happens': 8,\n",
       " 'hard': 9,\n",
       " 'he': 10,\n",
       " 'her': 11,\n",
       " 'him': 12,\n",
       " 'inside': 13,\n",
       " 'left': 14,\n",
       " 'life': 15,\n",
       " 'nothing': 16,\n",
       " 'on': 17,\n",
       " 'season': 18,\n",
       " 'she': 19,\n",
       " 'so': 20,\n",
       " 'spoilers': 21,\n",
       " 'the': 22,\n",
       " 'to': 23,\n",
       " 'tried': 24,\n",
       " 'wanted': 25,\n",
       " 'what': 26,\n",
       " 'when': 27,\n",
       " 'with': 28}"
      ]
     },
     "execution_count": 21,
     "metadata": {},
     "output_type": "execute_result"
    }
   ],
   "source": [
    "tfidf.vocabulary_"
   ]
  },
  {
   "cell_type": "code",
   "execution_count": 22,
   "metadata": {},
   "outputs": [
    {
     "data": {
      "text/plain": [
       "['and',\n",
       " 'back',\n",
       " 'carry',\n",
       " 'comes',\n",
       " 'crashes',\n",
       " 'daughter',\n",
       " 'do',\n",
       " 'had',\n",
       " 'happens',\n",
       " 'hard',\n",
       " 'he',\n",
       " 'her',\n",
       " 'him',\n",
       " 'inside',\n",
       " 'left',\n",
       " 'life',\n",
       " 'nothing',\n",
       " 'on',\n",
       " 'season',\n",
       " 'she',\n",
       " 'so',\n",
       " 'spoilers',\n",
       " 'the',\n",
       " 'to',\n",
       " 'tried',\n",
       " 'wanted',\n",
       " 'what',\n",
       " 'when',\n",
       " 'with']"
      ]
     },
     "execution_count": 22,
     "metadata": {},
     "output_type": "execute_result"
    }
   ],
   "source": [
    "tfidf.get_feature_names()"
   ]
  },
  {
   "cell_type": "code",
   "execution_count": 23,
   "metadata": {
    "collapsed": true
   },
   "outputs": [],
   "source": [
    "df = pd.DataFrame(y.toarray(), columns = tfidf.get_feature_names())"
   ]
  },
  {
   "cell_type": "code",
   "execution_count": 24,
   "metadata": {},
   "outputs": [
    {
     "data": {
      "text/html": [
       "<div>\n",
       "<style>\n",
       "    .dataframe thead tr:only-child th {\n",
       "        text-align: right;\n",
       "    }\n",
       "\n",
       "    .dataframe thead th {\n",
       "        text-align: left;\n",
       "    }\n",
       "\n",
       "    .dataframe tbody tr th {\n",
       "        vertical-align: top;\n",
       "    }\n",
       "</style>\n",
       "<table border=\"1\" class=\"dataframe\">\n",
       "  <thead>\n",
       "    <tr style=\"text-align: right;\">\n",
       "      <th></th>\n",
       "      <th>and</th>\n",
       "      <th>back</th>\n",
       "      <th>carry</th>\n",
       "      <th>comes</th>\n",
       "      <th>crashes</th>\n",
       "      <th>daughter</th>\n",
       "      <th>do</th>\n",
       "      <th>had</th>\n",
       "      <th>happens</th>\n",
       "      <th>hard</th>\n",
       "      <th>...</th>\n",
       "      <th>she</th>\n",
       "      <th>so</th>\n",
       "      <th>spoilers</th>\n",
       "      <th>the</th>\n",
       "      <th>to</th>\n",
       "      <th>tried</th>\n",
       "      <th>wanted</th>\n",
       "      <th>what</th>\n",
       "      <th>when</th>\n",
       "      <th>with</th>\n",
       "    </tr>\n",
       "  </thead>\n",
       "  <tbody>\n",
       "    <tr>\n",
       "      <th>0</th>\n",
       "      <td>0.272166</td>\n",
       "      <td>0.136083</td>\n",
       "      <td>0.136083</td>\n",
       "      <td>0.136083</td>\n",
       "      <td>0.136083</td>\n",
       "      <td>0.136083</td>\n",
       "      <td>0.136083</td>\n",
       "      <td>0.136083</td>\n",
       "      <td>0.136083</td>\n",
       "      <td>0.136083</td>\n",
       "      <td>...</td>\n",
       "      <td>0.272166</td>\n",
       "      <td>0.136083</td>\n",
       "      <td>0.136083</td>\n",
       "      <td>0.136083</td>\n",
       "      <td>0.408248</td>\n",
       "      <td>0.136083</td>\n",
       "      <td>0.136083</td>\n",
       "      <td>0.136083</td>\n",
       "      <td>0.136083</td>\n",
       "      <td>0.136083</td>\n",
       "    </tr>\n",
       "  </tbody>\n",
       "</table>\n",
       "<p>1 rows × 29 columns</p>\n",
       "</div>"
      ],
      "text/plain": [
       "        and      back     carry     comes   crashes  daughter        do  \\\n",
       "0  0.272166  0.136083  0.136083  0.136083  0.136083  0.136083  0.136083   \n",
       "\n",
       "        had   happens      hard    ...          she        so  spoilers  \\\n",
       "0  0.136083  0.136083  0.136083    ...     0.272166  0.136083  0.136083   \n",
       "\n",
       "        the        to     tried    wanted      what      when      with  \n",
       "0  0.136083  0.408248  0.136083  0.136083  0.136083  0.136083  0.136083  \n",
       "\n",
       "[1 rows x 29 columns]"
      ]
     },
     "execution_count": 24,
     "metadata": {},
     "output_type": "execute_result"
    }
   ],
   "source": [
    "df"
   ]
  },
  {
   "cell_type": "markdown",
   "metadata": {},
   "source": [
    "### Ahora que tenemos un vector con valores para el resumen de la historia podemos obtener medidas de similaridad: \n",
    "\n",
    "- distance levenshtein\n",
    "- word2vec \n",
    "- euclidean distance\n",
    "- cosine similarity\n",
    "\n",
    "Se escogen historias con mas similaridad a las historias favoritas del usuario para que me haga recomendacion.."
   ]
  },
  {
   "cell_type": "code",
   "execution_count": null,
   "metadata": {
    "collapsed": true
   },
   "outputs": [],
   "source": []
  }
 ],
 "metadata": {
  "kernelspec": {
   "display_name": "Python 3",
   "language": "python",
   "name": "python3"
  },
  "language_info": {
   "codemirror_mode": {
    "name": "ipython",
    "version": 3
   },
   "file_extension": ".py",
   "mimetype": "text/x-python",
   "name": "python",
   "nbconvert_exporter": "python",
   "pygments_lexer": "ipython3",
   "version": "3.6.1"
  }
 },
 "nbformat": 4,
 "nbformat_minor": 2
}
