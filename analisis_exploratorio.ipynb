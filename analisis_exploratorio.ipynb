{
 "cells": [
  {
   "cell_type": "code",
   "execution_count": null,
   "metadata": {
    "collapsed": true
   },
   "outputs": [],
   "source": [
    "import pandas as pd\n",
    "from matplotlib.ticker import FuncFormatter\n",
    "import matplotlib.pyplot as plt\n",
    "import numpy as np\n",
    "from tqdm import tqdm\n",
    "import time\n",
    "%matplotlib inline"
   ]
  },
  {
   "cell_type": "code",
   "execution_count": null,
   "metadata": {
    "collapsed": true
   },
   "outputs": [],
   "source": [
    "data = pd.read_csv('./datasets_recsys/favorite_stories_books_sample.csv', sep=';', encoding='latin')"
   ]
  },
  {
   "cell_type": "code",
   "execution_count": null,
   "metadata": {
    "collapsed": true
   },
   "outputs": [],
   "source": [
    "data.head()"
   ]
  },
  {
   "cell_type": "markdown",
   "metadata": {},
   "source": [
    "### Cantidad de veces que aparece como favorita cada historia (2 historias han sido favoriteadas 10 veces, 3 historias han sido favoriteadas 7 veces, etc,,,): "
   ]
  },
  {
   "cell_type": "code",
   "execution_count": null,
   "metadata": {
    "collapsed": true
   },
   "outputs": [],
   "source": [
    "story_counts = data['story_id'].value_counts().to_frame()\n",
    "story_counts['id'] = story_counts.index\n",
    "story_counts.columns = ['counts', 'story_id']\n",
    "story_counts = story_counts[['story_id', 'counts']]\n",
    "\n",
    "story_counts = story_counts.groupby(['counts']).size().reset_index(name='# stories')\n",
    "\n",
    "story_counts = story_counts[['# stories', 'counts']]\n",
    "\n",
    "story_counts.head(10)"
   ]
  },
  {
   "cell_type": "code",
   "execution_count": null,
   "metadata": {
    "collapsed": true
   },
   "outputs": [],
   "source": [
    "# primeras 10 \n",
    "story_data = story_counts.head(20)\n",
    "\n",
    "story_plot = story_data.plot.bar(x='counts', y='frequency', color='orange', figsize=(20,10))\n",
    "\n",
    "story_plot.set_ylabel('Number of favorites')\n",
    "story_plot.yaxis.set_major_formatter(FuncFormatter(lambda y, _: '{:,}'.format(y))) \n",
    "\n",
    "story_plot.set_xlabel('Number of stories')\n",
    "#story_plot.set_title('Frequency distribution favorites per number of stories', fontsize=25)\n",
    "legend = story_plot.legend([])\n",
    "legend.remove()\n"
   ]
  },
  {
   "cell_type": "markdown",
   "metadata": {},
   "source": [
    "### Cantidad de veces que un usuario le da favorito a una historia: (1 solo usuario tiene 5 historias favoritas, 9 usuarios tienen 4, etc...) "
   ]
  },
  {
   "cell_type": "code",
   "execution_count": null,
   "metadata": {
    "collapsed": true
   },
   "outputs": [],
   "source": [
    "user_counts = data['user_id'].value_counts().to_frame()\n",
    "user_counts['id'] = user_counts.index\n",
    "user_counts.columns = ['counts', 'user_id']\n",
    "user_counts = user_counts[['user_id', 'counts']]\n",
    "\n",
    "user_counts = user_counts.groupby(['counts']).size().reset_index(name='# users')\n",
    "\n",
    "user_counts = user_counts[['# users', 'counts']]\n",
    "\n",
    "user_counts"
   ]
  },
  {
   "cell_type": "code",
   "execution_count": null,
   "metadata": {
    "collapsed": true
   },
   "outputs": [],
   "source": [
    "\n",
    "user_data = user_counts.head(100)\n",
    "\n",
    "user_plot = user_data.plot.bar(x='counts', y='frequency', color='orange', figsize=(20,10))\n",
    "\n",
    "user_plot.set_ylabel('Number of users')\n",
    "user_plot.yaxis.set_major_formatter(FuncFormatter(lambda y, _: '{:,}'.format(y))) \n",
    "\n",
    "user_plot.set_xlabel('Number of favorite stories')\n",
    "#story_plot.set_title('Frequency distribution favorites per number of users', fontsize=25)\n",
    "legend = user_plot.legend([])\n",
    "legend.remove()"
   ]
  },
  {
   "cell_type": "markdown",
   "metadata": {},
   "source": [
    "### Distribucion de franchises: "
   ]
  },
  {
   "cell_type": "code",
   "execution_count": null,
   "metadata": {
    "collapsed": true
   },
   "outputs": [],
   "source": [
    "print('users: {}'.format(len(list(data['user_id'].unique()))))\n",
    "print('stories: {}'.format(len(list(data['story_id'].unique()))))\n",
    "print('stories per user: {}'.format(len(list(data['story_id'].unique()))/len(list(data['user_id'].unique()))))\n",
    "print('total interactions: {}'.format(len(list(data['story_id']))))\n"
   ]
  },
  {
   "cell_type": "markdown",
   "metadata": {},
   "source": [
    "# Análisis de dependencia entre historias favoritas y usuarios."
   ]
  },
  {
   "cell_type": "code",
   "execution_count": null,
   "metadata": {
    "collapsed": true
   },
   "outputs": [],
   "source": [
    "stories = pd.read_csv('./datasets_recsys/Archivo/ff_stories_all_tab_delimited.csv', encoding='latin', sep='|')"
   ]
  },
  {
   "cell_type": "code",
   "execution_count": null,
   "metadata": {
    "collapsed": true
   },
   "outputs": [],
   "source": [
    "users = pd.read_csv('./datasets_recsys/Archivo/ff_users_all_tab_delimited.csv', encoding='latin', sep='|')"
   ]
  },
  {
   "cell_type": "code",
   "execution_count": null,
   "metadata": {
    "collapsed": true
   },
   "outputs": [],
   "source": [
    "users.head()"
   ]
  },
  {
   "cell_type": "code",
   "execution_count": null,
   "metadata": {
    "collapsed": true
   },
   "outputs": [],
   "source": [
    "stories.head()"
   ]
  },
  {
   "cell_type": "markdown",
   "metadata": {},
   "source": [
    "# Re-sample: users with more than 5 fav stories.\n"
   ]
  },
  {
   "cell_type": "markdown",
   "metadata": {},
   "source": [
    "- __N__ = número de usuarios a samplear-\n",
    "- __minQFavs__ = cantidad mínima de historias que deben tener los usuarios."
   ]
  },
  {
   "cell_type": "code",
   "execution_count": null,
   "metadata": {
    "collapsed": true
   },
   "outputs": [],
   "source": [
    "N = 15000\n",
    "minQFavs = 5"
   ]
  },
  {
   "cell_type": "code",
   "execution_count": null,
   "metadata": {
    "collapsed": true
   },
   "outputs": [],
   "source": [
    "data = pd.read_csv('./datasets_recsys/ff_favorite_stories_books.csv', sep=';', encoding='latin')"
   ]
  },
  {
   "cell_type": "code",
   "execution_count": null,
   "metadata": {
    "collapsed": true
   },
   "outputs": [],
   "source": [
    "data.shape"
   ]
  },
  {
   "cell_type": "markdown",
   "metadata": {},
   "source": [
    "Se cuentan la cantidad de historias favoritas de cada usuario:"
   ]
  },
  {
   "cell_type": "code",
   "execution_count": null,
   "metadata": {
    "collapsed": true
   },
   "outputs": [],
   "source": [
    "q_favs_df = data.groupby('user_id').count().reset_index()\\\n",
    "                .rename(columns={'story_id': 'q_favs'}).iloc[:,:2]\\\n",
    "                .sort_values(by='q_favs', ascending=False)"
   ]
  },
  {
   "cell_type": "code",
   "execution_count": null,
   "metadata": {
    "collapsed": true
   },
   "outputs": [],
   "source": [
    "q_favs_df.head()"
   ]
  },
  {
   "cell_type": "markdown",
   "metadata": {},
   "source": [
    "Se seleccionan solo aquellos usuarios con más de minQFavs historias favoritas:"
   ]
  },
  {
   "cell_type": "code",
   "execution_count": null,
   "metadata": {
    "collapsed": true
   },
   "outputs": [],
   "source": [
    "q_favs_sample = q_favs_df[q_favs_df['q_favs'] >= minQFavs]"
   ]
  },
  {
   "cell_type": "code",
   "execution_count": null,
   "metadata": {
    "collapsed": true
   },
   "outputs": [],
   "source": [
    "q_favs_sample.shape"
   ]
  },
  {
   "cell_type": "markdown",
   "metadata": {},
   "source": [
    "Se hace un sample de N usuarios sobre los usuarios con más de minQFavs historias favoritas:"
   ]
  },
  {
   "cell_type": "code",
   "execution_count": null,
   "metadata": {
    "collapsed": true
   },
   "outputs": [],
   "source": [
    "q_favs_subsample = q_favs_sample.sample(n=N)"
   ]
  },
  {
   "cell_type": "code",
   "execution_count": null,
   "metadata": {
    "collapsed": true
   },
   "outputs": [],
   "source": [
    "q_favs_subsample_sorted = q_favs_subsample.sort_values(by='q_favs', ascending=False)\\\n",
    "                                          .reset_index().iloc[:,1:]"
   ]
  },
  {
   "cell_type": "code",
   "execution_count": null,
   "metadata": {
    "collapsed": true
   },
   "outputs": [],
   "source": [
    "q_favs_subsample_sorted.head()"
   ]
  },
  {
   "cell_type": "markdown",
   "metadata": {},
   "source": [
    "Visualización del sample. Se puede ver que se comporta igual que el dataset original, por lo tanto, es representativo."
   ]
  },
  {
   "cell_type": "code",
   "execution_count": null,
   "metadata": {
    "collapsed": true
   },
   "outputs": [],
   "source": [
    "plt.scatter(q_favs_subsample_sorted.index, q_favs_subsample_sorted['q_favs'])"
   ]
  },
  {
   "cell_type": "code",
   "execution_count": null,
   "metadata": {
    "collapsed": true
   },
   "outputs": [],
   "source": [
    "# Lista de usuarios sobre los que se obtendrán las historias favoritas.\n",
    "usersID = q_favs_subsample['user_id']"
   ]
  },
  {
   "cell_type": "code",
   "execution_count": null,
   "metadata": {
    "collapsed": true
   },
   "outputs": [],
   "source": [
    "# Liberación de algo de memoria (mi pc quedaba corto).\n",
    "\n",
    "del q_favs_subsample\n",
    "del q_favs_subsample_sorted\n",
    "del q_favs_sample"
   ]
  },
  {
   "cell_type": "code",
   "execution_count": null,
   "metadata": {
    "collapsed": true
   },
   "outputs": [],
   "source": [
    "# Se sacan de todas las historias favoritas solo aquellas pertenecientes a los N\n",
    "# usuarios definidos anteriormente.\n",
    "\n",
    "finalSample = data[data['user_id'].isin(usersID)]"
   ]
  },
  {
   "cell_type": "code",
   "execution_count": null,
   "metadata": {
    "collapsed": true
   },
   "outputs": [],
   "source": [
    "finalSample.head()"
   ]
  },
  {
   "cell_type": "code",
   "execution_count": null,
   "metadata": {
    "collapsed": true
   },
   "outputs": [],
   "source": [
    "finalSample.shape"
   ]
  },
  {
   "cell_type": "code",
   "execution_count": null,
   "metadata": {
    "collapsed": true
   },
   "outputs": [],
   "source": [
    "102390 in usersID.tolist()"
   ]
  },
  {
   "cell_type": "code",
   "execution_count": null,
   "metadata": {
    "collapsed": true
   },
   "outputs": [],
   "source": [
    "finalSample.to_csv('./datasets_recsys/favorite_stories_books_sample.csv', index=False, sep=';', encoding='latin')"
   ]
  },
  {
   "cell_type": "markdown",
   "metadata": {},
   "source": [
    "# Análisis relación usuario/autorquesiguen/historiasfavs"
   ]
  },
  {
   "cell_type": "code",
   "execution_count": null,
   "metadata": {},
   "outputs": [],
   "source": [
    "authorBooks = pd.read_csv('./datasets_recsys/author_story_books.csv', sep=\";\", encoding='latin')"
   ]
  },
  {
   "cell_type": "code",
   "execution_count": null,
   "metadata": {},
   "outputs": [],
   "source": [
    "authorBooks.head()"
   ]
  },
  {
   "cell_type": "code",
   "execution_count": null,
   "metadata": {},
   "outputs": [],
   "source": [
    "authorBooks.shape"
   ]
  },
  {
   "cell_type": "code",
   "execution_count": null,
   "metadata": {
    "collapsed": true
   },
   "outputs": [],
   "source": [
    "authorBooks.set_index(['author', 'story_id'], inplace=True)"
   ]
  },
  {
   "cell_type": "code",
   "execution_count": null,
   "metadata": {},
   "outputs": [],
   "source": [
    "authorBooks.head()"
   ]
  },
  {
   "cell_type": "code",
   "execution_count": null,
   "metadata": {
    "collapsed": true
   },
   "outputs": [],
   "source": [
    "userAuthor = pd.read_csv('./datasets_recsys/ff_users_follow_authors.csv', sep=';', encoding='latin')"
   ]
  },
  {
   "cell_type": "code",
   "execution_count": null,
   "metadata": {},
   "outputs": [],
   "source": [
    "userAuthor.head()"
   ]
  },
  {
   "cell_type": "code",
   "execution_count": null,
   "metadata": {},
   "outputs": [],
   "source": [
    "userAuthor.shape"
   ]
  },
  {
   "cell_type": "code",
   "execution_count": null,
   "metadata": {
    "collapsed": true
   },
   "outputs": [],
   "source": [
    "favsBooks = pd.read_csv('./datasets_recsys/favorite_stories_books_sample.csv', sep=';', encoding='latin')"
   ]
  },
  {
   "cell_type": "code",
   "execution_count": null,
   "metadata": {},
   "outputs": [],
   "source": [
    "favsBooks.head()"
   ]
  },
  {
   "cell_type": "code",
   "execution_count": null,
   "metadata": {},
   "outputs": [],
   "source": [
    "favsBooks.shape"
   ]
  },
  {
   "cell_type": "code",
   "execution_count": null,
   "metadata": {
    "collapsed": true
   },
   "outputs": [],
   "source": [
    "usersID = favsBooks['user_id'].unique()"
   ]
  },
  {
   "cell_type": "code",
   "execution_count": null,
   "metadata": {},
   "outputs": [],
   "source": [
    "print('Cantidad de usuarios: {}'.format(usersID.size))"
   ]
  },
  {
   "cell_type": "code",
   "execution_count": null,
   "metadata": {},
   "outputs": [],
   "source": [
    "new_data = []\n",
    "users_remaining = usersID.size\n",
    "count = 0\n",
    "t1 = time.time()\n",
    "for userID in usersID:\n",
    "    print('Quedan {} usuarios'.format(users_remaining))\n",
    "    if users_remaining % 100 == 0 and count == 1:\n",
    "        print('Quedan {} usuarios'.format(users_remaining))\n",
    "        print(time.time() - t1)\n",
    "        break\n",
    "    favStories = favsBooks[favsBooks['user_id'] == userID]['story_id'].unique()\n",
    "#     print('favs: {}'.format(favStories.size))\n",
    "    authorsFollowed = userAuthor[userAuthor['Source'] == userID]['Target'].unique()\n",
    "#     print('autores: {}'.format(authorsFollowed.size))\n",
    "    q_followedByAuthor = 0\n",
    "    q_complement = 0\n",
    "    for story in favStories:\n",
    "        followed = False\n",
    "        for author in authorsFollowed:\n",
    "            try:\n",
    "                authorBooks.loc[author].loc[story]\n",
    "                q_followedByAuthor += 1\n",
    "                followed = True\n",
    "                break\n",
    "            except KeyError:\n",
    "                pass\n",
    "        if not followed:\n",
    "            q_complement += 1\n",
    "    users_remaining -= 1\n",
    "    new_data.append([userID, favStories.size, authorsFollowed.size,\\\n",
    "                     q_followedByAuthor / (q_followedByAuthor + q_complement)])\n",
    "#     print([userID, favStories.size, authorsFollowed.size,\\\n",
    "#                      q_followedByAuthor / (q_followedByAuthor + q_complement)])\n",
    "#     print('time: {}'.format(tu2 - tu1))\n",
    "    count = 1"
   ]
  },
  {
   "cell_type": "code",
   "execution_count": null,
   "metadata": {
    "collapsed": true
   },
   "outputs": [],
   "source": []
  }
 ],
 "metadata": {
  "kernelspec": {
   "display_name": "Python 3",
   "language": "python",
   "name": "python3"
  },
  "language_info": {
   "codemirror_mode": {
    "name": "ipython",
    "version": 3
   },
   "file_extension": ".py",
   "mimetype": "text/x-python",
   "name": "python",
   "nbconvert_exporter": "python",
   "pygments_lexer": "ipython3",
   "version": "3.5.3"
  }
 },
 "nbformat": 4,
 "nbformat_minor": 2
}
