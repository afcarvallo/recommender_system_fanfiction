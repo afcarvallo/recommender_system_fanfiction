{
 "cells": [
  {
   "cell_type": "code",
   "execution_count": 2,
   "metadata": {
    "collapsed": true
   },
   "outputs": [],
   "source": [
    "import pandas as pd"
   ]
  },
  {
   "cell_type": "code",
   "execution_count": 3,
   "metadata": {
    "collapsed": true
   },
   "outputs": [],
   "source": [
    "website_url = './datasets_recsys/ff_favorite_stories_books.csv'\n",
    "df = pd.read_csv(website_url, sep=';', index_col=None) # This may take a couple minutes"
   ]
  },
  {
   "cell_type": "code",
   "execution_count": 4,
   "metadata": {},
   "outputs": [
    {
     "data": {
      "text/html": [
       "<div>\n",
       "<style>\n",
       "    .dataframe thead tr:only-child th {\n",
       "        text-align: right;\n",
       "    }\n",
       "\n",
       "    .dataframe thead th {\n",
       "        text-align: left;\n",
       "    }\n",
       "\n",
       "    .dataframe tbody tr th {\n",
       "        vertical-align: top;\n",
       "    }\n",
       "</style>\n",
       "<table border=\"1\" class=\"dataframe\">\n",
       "  <thead>\n",
       "    <tr style=\"text-align: right;\">\n",
       "      <th></th>\n",
       "      <th>user_id</th>\n",
       "      <th>story_id</th>\n",
       "      <th>franchise</th>\n",
       "    </tr>\n",
       "  </thead>\n",
       "  <tbody>\n",
       "    <tr>\n",
       "      <th>0</th>\n",
       "      <td>100016</td>\n",
       "      <td>1260679</td>\n",
       "      <td>Harry Potter</td>\n",
       "    </tr>\n",
       "    <tr>\n",
       "      <th>1</th>\n",
       "      <td>100016</td>\n",
       "      <td>554557</td>\n",
       "      <td>Harry Potter</td>\n",
       "    </tr>\n",
       "    <tr>\n",
       "      <th>2</th>\n",
       "      <td>100016</td>\n",
       "      <td>941087</td>\n",
       "      <td>Harry Potter</td>\n",
       "    </tr>\n",
       "    <tr>\n",
       "      <th>3</th>\n",
       "      <td>100016</td>\n",
       "      <td>1291535</td>\n",
       "      <td>Harry Potter</td>\n",
       "    </tr>\n",
       "    <tr>\n",
       "      <th>4</th>\n",
       "      <td>100016</td>\n",
       "      <td>856292</td>\n",
       "      <td>Harry Potter</td>\n",
       "    </tr>\n",
       "  </tbody>\n",
       "</table>\n",
       "</div>"
      ],
      "text/plain": [
       "   user_id  story_id     franchise\n",
       "0   100016   1260679  Harry Potter\n",
       "1   100016    554557  Harry Potter\n",
       "2   100016    941087  Harry Potter\n",
       "3   100016   1291535  Harry Potter\n",
       "4   100016    856292  Harry Potter"
      ]
     },
     "execution_count": 4,
     "metadata": {},
     "output_type": "execute_result"
    }
   ],
   "source": [
    "df.head()"
   ]
  },
  {
   "cell_type": "code",
   "execution_count": 5,
   "metadata": {},
   "outputs": [],
   "source": [
    "df_sample = df.sample(frac=0.1)"
   ]
  },
  {
   "cell_type": "code",
   "execution_count": 6,
   "metadata": {},
   "outputs": [
    {
     "data": {
      "text/plain": [
       "668467"
      ]
     },
     "execution_count": 6,
     "metadata": {},
     "output_type": "execute_result"
    }
   ],
   "source": [
    "len(df_sample['user_id'].unique())"
   ]
  },
  {
   "cell_type": "code",
   "execution_count": 7,
   "metadata": {},
   "outputs": [
    {
     "data": {
      "text/plain": [
       "633016"
      ]
     },
     "execution_count": 7,
     "metadata": {},
     "output_type": "execute_result"
    }
   ],
   "source": [
    "len(df_sample['story_id'].unique())"
   ]
  },
  {
   "cell_type": "code",
   "execution_count": 8,
   "metadata": {},
   "outputs": [
    {
     "data": {
      "text/plain": [
       "2204459    514\n",
       "2126908    490\n",
       "1575238    483\n",
       "2094280    482\n",
       "2045369    482\n",
       "2313896    481\n",
       "2350367    480\n",
       "1798201    475\n",
       "2154657    463\n",
       "2253582    457\n",
       "2157579    456\n",
       "2564473    454\n",
       "3528031    450\n",
       "1827347    447\n",
       "2274997    440\n",
       "3500177    433\n",
       "1850220    430\n",
       "3742059    416\n",
       "5519073    415\n",
       "201263     413\n",
       "6277576    409\n",
       "2148986    408\n",
       "3311298    407\n",
       "997810     405\n",
       "2186446    398\n",
       "2238691    397\n",
       "3061974    397\n",
       "1929602    396\n",
       "5960910    393\n",
       "3498744    391\n",
       "          ... \n",
       "80857        1\n",
       "138173       1\n",
       "562305       1\n",
       "4783244      1\n",
       "273275       1\n",
       "4816060      1\n",
       "4910286      1\n",
       "4869338      1\n",
       "738555       1\n",
       "8688897      1\n",
       "304391       1\n",
       "5008414      1\n",
       "5004312      1\n",
       "31729        1\n",
       "3498815      1\n",
       "3707521      1\n",
       "3931265      1\n",
       "4009051      1\n",
       "7961276      1\n",
       "3814101      1\n",
       "7715620      1\n",
       "3593033      1\n",
       "799765       1\n",
       "7748436      1\n",
       "4033615      1\n",
       "3167129      1\n",
       "4176905      1\n",
       "4185093      1\n",
       "4189187      1\n",
       "45078        1\n",
       "Name: user_id, Length: 668467, dtype: int64"
      ]
     },
     "execution_count": 8,
     "metadata": {},
     "output_type": "execute_result"
    }
   ],
   "source": [
    "df_sample['user_id'].value_counts()"
   ]
  },
  {
   "cell_type": "code",
   "execution_count": 9,
   "metadata": {
    "collapsed": true
   },
   "outputs": [],
   "source": [
    "df_sample.to_csv('favorite_stories_books_sample2.csv', sep=';', index=False)"
   ]
  },
  {
   "cell_type": "code",
   "execution_count": null,
   "metadata": {
    "collapsed": true
   },
   "outputs": [],
   "source": []
  }
 ],
 "metadata": {
  "kernelspec": {
   "display_name": "Python 3",
   "language": "python",
   "name": "python3"
  },
  "language_info": {
   "codemirror_mode": {
    "name": "ipython",
    "version": 3
   },
   "file_extension": ".py",
   "mimetype": "text/x-python",
   "name": "python",
   "nbconvert_exporter": "python",
   "pygments_lexer": "ipython3",
   "version": "3.6.1"
  }
 },
 "nbformat": 4,
 "nbformat_minor": 2
}
