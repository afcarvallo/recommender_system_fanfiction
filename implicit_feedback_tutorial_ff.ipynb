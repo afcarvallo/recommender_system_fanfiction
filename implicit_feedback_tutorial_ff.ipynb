{
 "cells": [
  {
   "cell_type": "code",
   "execution_count": 1,
   "metadata": {
    "collapsed": true
   },
   "outputs": [],
   "source": [
    "import pandas as pd\n",
    "import scipy.sparse as sparse\n",
    "import numpy as np\n",
    "from scipy.sparse.linalg import spsolve\n",
    "from sklearn.model_selection import train_test_split\n",
    "import random\n",
    "import implicit\n",
    "from sklearn import metrics\n",
    "from sklearn.preprocessing import MinMaxScaler\n",
    "import ndcg\n",
    "import MAP\n",
    "from functools import reduce\n",
    "import matplotlib as plt\n",
    "from ast import literal_eval\n",
    "from multiprocessing import Pool\n",
    "%matplotlib inline"
   ]
  },
  {
   "cell_type": "code",
   "execution_count": 2,
   "metadata": {},
   "outputs": [
    {
     "data": {
      "text/html": [
       "<div>\n",
       "<style>\n",
       "    .dataframe thead tr:only-child th {\n",
       "        text-align: right;\n",
       "    }\n",
       "\n",
       "    .dataframe thead th {\n",
       "        text-align: left;\n",
       "    }\n",
       "\n",
       "    .dataframe tbody tr th {\n",
       "        vertical-align: top;\n",
       "    }\n",
       "</style>\n",
       "<table border=\"1\" class=\"dataframe\">\n",
       "  <thead>\n",
       "    <tr style=\"text-align: right;\">\n",
       "      <th></th>\n",
       "      <th>user_id</th>\n",
       "      <th>story_id</th>\n",
       "      <th>franchise</th>\n",
       "    </tr>\n",
       "  </thead>\n",
       "  <tbody>\n",
       "    <tr>\n",
       "      <th>0</th>\n",
       "      <td>102390</td>\n",
       "      <td>7295117</td>\n",
       "      <td>Harry Potter</td>\n",
       "    </tr>\n",
       "    <tr>\n",
       "      <th>1</th>\n",
       "      <td>102390</td>\n",
       "      <td>10629488</td>\n",
       "      <td>Harry Potter</td>\n",
       "    </tr>\n",
       "    <tr>\n",
       "      <th>2</th>\n",
       "      <td>102390</td>\n",
       "      <td>10089646</td>\n",
       "      <td>Harry Potter</td>\n",
       "    </tr>\n",
       "    <tr>\n",
       "      <th>3</th>\n",
       "      <td>102390</td>\n",
       "      <td>8945573</td>\n",
       "      <td>Harry Potter</td>\n",
       "    </tr>\n",
       "    <tr>\n",
       "      <th>4</th>\n",
       "      <td>102390</td>\n",
       "      <td>8037808</td>\n",
       "      <td>Harry Potter</td>\n",
       "    </tr>\n",
       "  </tbody>\n",
       "</table>\n",
       "</div>"
      ],
      "text/plain": [
       "   user_id  story_id     franchise\n",
       "0   102390   7295117  Harry Potter\n",
       "1   102390  10629488  Harry Potter\n",
       "2   102390  10089646  Harry Potter\n",
       "3   102390   8945573  Harry Potter\n",
       "4   102390   8037808  Harry Potter"
      ]
     },
     "execution_count": 2,
     "metadata": {},
     "output_type": "execute_result"
    }
   ],
   "source": [
    "# dataset nuevo \n",
    "path = './datasets_recsys/favorite_stories_books_sample.csv'\n",
    "ff_data = pd.read_csv(path, sep=';', index_col=None, encoding='latin') \n",
    "ff_data = ff_data[['user_id','story_id','franchise']]\n",
    "ff_data.head()"
   ]
  },
  {
   "cell_type": "code",
   "execution_count": 3,
   "metadata": {},
   "outputs": [
    {
     "data": {
      "text/html": [
       "<div>\n",
       "<style>\n",
       "    .dataframe thead tr:only-child th {\n",
       "        text-align: right;\n",
       "    }\n",
       "\n",
       "    .dataframe thead th {\n",
       "        text-align: left;\n",
       "    }\n",
       "\n",
       "    .dataframe tbody tr th {\n",
       "        vertical-align: top;\n",
       "    }\n",
       "</style>\n",
       "<table border=\"1\" class=\"dataframe\">\n",
       "  <thead>\n",
       "    <tr style=\"text-align: right;\">\n",
       "      <th></th>\n",
       "      <th>user_id</th>\n",
       "      <th>story_id</th>\n",
       "      <th>franchise</th>\n",
       "    </tr>\n",
       "  </thead>\n",
       "  <tbody>\n",
       "    <tr>\n",
       "      <th>0</th>\n",
       "      <td>102390</td>\n",
       "      <td>7295117</td>\n",
       "      <td>Harry Potter</td>\n",
       "    </tr>\n",
       "    <tr>\n",
       "      <th>1</th>\n",
       "      <td>102390</td>\n",
       "      <td>10629488</td>\n",
       "      <td>Harry Potter</td>\n",
       "    </tr>\n",
       "    <tr>\n",
       "      <th>2</th>\n",
       "      <td>102390</td>\n",
       "      <td>10089646</td>\n",
       "      <td>Harry Potter</td>\n",
       "    </tr>\n",
       "    <tr>\n",
       "      <th>3</th>\n",
       "      <td>102390</td>\n",
       "      <td>8945573</td>\n",
       "      <td>Harry Potter</td>\n",
       "    </tr>\n",
       "    <tr>\n",
       "      <th>4</th>\n",
       "      <td>102390</td>\n",
       "      <td>8037808</td>\n",
       "      <td>Harry Potter</td>\n",
       "    </tr>\n",
       "  </tbody>\n",
       "</table>\n",
       "</div>"
      ],
      "text/plain": [
       "   user_id  story_id     franchise\n",
       "0   102390   7295117  Harry Potter\n",
       "1   102390  10629488  Harry Potter\n",
       "2   102390  10089646  Harry Potter\n",
       "3   102390   8945573  Harry Potter\n",
       "4   102390   8037808  Harry Potter"
      ]
     },
     "execution_count": 3,
     "metadata": {},
     "output_type": "execute_result"
    }
   ],
   "source": [
    "cleaned_data = ff_data.loc[pd.isnull(ff_data.user_id) == False]\n",
    "cleaned_data.head()"
   ]
  },
  {
   "cell_type": "code",
   "execution_count": 4,
   "metadata": {
    "collapsed": true
   },
   "outputs": [],
   "source": [
    "item_lookup = cleaned_data[['story_id', 'franchise']].drop_duplicates() \n",
    "item_lookup['story_id'] = item_lookup.story_id.astype(str) "
   ]
  },
  {
   "cell_type": "code",
   "execution_count": 5,
   "metadata": {
    "collapsed": true
   },
   "outputs": [],
   "source": [
    "cleaned_data['user_id'] = cleaned_data.user_id.astype(int) \n",
    "cleaned_data['Quantity'] = 1\n",
    "cleaned_data = cleaned_data[['story_id', 'Quantity', 'user_id']] \n",
    "grouped_cleaned = cleaned_data.groupby(['user_id', 'story_id']).sum().reset_index() \n",
    "grouped_cleaned.Quantity.loc[grouped_cleaned.Quantity == 0] = 1 \n",
    "grouped_stories = grouped_cleaned.query('Quantity > 0')"
   ]
  },
  {
   "cell_type": "code",
   "execution_count": 6,
   "metadata": {},
   "outputs": [
    {
     "data": {
      "text/html": [
       "<div>\n",
       "<style>\n",
       "    .dataframe thead tr:only-child th {\n",
       "        text-align: right;\n",
       "    }\n",
       "\n",
       "    .dataframe thead th {\n",
       "        text-align: left;\n",
       "    }\n",
       "\n",
       "    .dataframe tbody tr th {\n",
       "        vertical-align: top;\n",
       "    }\n",
       "</style>\n",
       "<table border=\"1\" class=\"dataframe\">\n",
       "  <thead>\n",
       "    <tr style=\"text-align: right;\">\n",
       "      <th></th>\n",
       "      <th>user_id</th>\n",
       "      <th>story_id</th>\n",
       "      <th>Quantity</th>\n",
       "    </tr>\n",
       "  </thead>\n",
       "  <tbody>\n",
       "    <tr>\n",
       "      <th>0</th>\n",
       "      <td>8139</td>\n",
       "      <td>282139</td>\n",
       "      <td>1</td>\n",
       "    </tr>\n",
       "    <tr>\n",
       "      <th>1</th>\n",
       "      <td>8139</td>\n",
       "      <td>288735</td>\n",
       "      <td>1</td>\n",
       "    </tr>\n",
       "    <tr>\n",
       "      <th>2</th>\n",
       "      <td>8139</td>\n",
       "      <td>1277839</td>\n",
       "      <td>1</td>\n",
       "    </tr>\n",
       "    <tr>\n",
       "      <th>3</th>\n",
       "      <td>8139</td>\n",
       "      <td>2700556</td>\n",
       "      <td>1</td>\n",
       "    </tr>\n",
       "    <tr>\n",
       "      <th>4</th>\n",
       "      <td>8139</td>\n",
       "      <td>2800923</td>\n",
       "      <td>1</td>\n",
       "    </tr>\n",
       "  </tbody>\n",
       "</table>\n",
       "</div>"
      ],
      "text/plain": [
       "   user_id  story_id  Quantity\n",
       "0     8139    282139         1\n",
       "1     8139    288735         1\n",
       "2     8139   1277839         1\n",
       "3     8139   2700556         1\n",
       "4     8139   2800923         1"
      ]
     },
     "execution_count": 6,
     "metadata": {},
     "output_type": "execute_result"
    }
   ],
   "source": [
    "grouped_stories.head()"
   ]
  },
  {
   "cell_type": "markdown",
   "metadata": {},
   "source": [
    "### Creamos la sparse matrix"
   ]
  },
  {
   "cell_type": "code",
   "execution_count": 7,
   "metadata": {},
   "outputs": [
    {
     "data": {
      "text/plain": [
       "<15000x302043 sparse matrix of type '<class 'numpy.int64'>'\n",
       "\twith 937110 stored elements in Compressed Sparse Row format>"
      ]
     },
     "execution_count": 7,
     "metadata": {},
     "output_type": "execute_result"
    }
   ],
   "source": [
    "users = list(np.sort(grouped_stories.user_id.unique())) \n",
    "stories = list(grouped_stories.story_id.unique()) \n",
    "quantity = list(grouped_stories.Quantity) \n",
    "rows = grouped_stories.user_id.astype('category', categories = users).cat.codes \n",
    "cols = grouped_stories.story_id.astype('category', categories = stories).cat.codes \n",
    "favorite_stories_sparse = sparse.csr_matrix((quantity, (rows, cols)), shape=(len(users), len(stories)))\n",
    "favorite_stories_sparse"
   ]
  },
  {
   "cell_type": "markdown",
   "metadata": {},
   "source": [
    "### Vemos cuan \"sparsed\" estan los datos:"
   ]
  },
  {
   "cell_type": "code",
   "execution_count": 8,
   "metadata": {},
   "outputs": [
    {
     "data": {
      "text/plain": [
       "99.97931619007889"
      ]
     },
     "execution_count": 8,
     "metadata": {},
     "output_type": "execute_result"
    }
   ],
   "source": [
    "matrix_size = favorite_stories_sparse.shape[0]*favorite_stories_sparse.shape[1] \n",
    "num_fav_stories = len(favorite_stories_sparse.nonzero()[0]) \n",
    "sparsity = 100*(1 - (num_fav_stories/matrix_size))\n",
    "sparsity"
   ]
  },
  {
   "cell_type": "code",
   "execution_count": 9,
   "metadata": {
    "collapsed": true
   },
   "outputs": [],
   "source": [
    "'''recibe matriz sparsed y la divide 80/20'''\n",
    "\n",
    "def make_train(sparse_matrix, pct_test = 0.2):\n",
    "    total_users = 15000 # users\n",
    "    training_set = sparse_matrix[0: (total_users - (total_users *pct_test))] \n",
    "    test_set = sparse_matrix[(total_users - (total_users *pct_test))::]\n",
    "    return training_set, test_set  # retornamos una matriz sparse de train y de testing "
   ]
  },
  {
   "cell_type": "code",
   "execution_count": 10,
   "metadata": {},
   "outputs": [
    {
     "data": {
      "text/plain": [
       "(array([    0,     0,     0, ..., 14999, 14999, 14999], dtype=int32),\n",
       " array([     0,      1,      2, ..., 244472, 268254, 270641], dtype=int32))"
      ]
     },
     "execution_count": 10,
     "metadata": {},
     "output_type": "execute_result"
    }
   ],
   "source": [
    "favorite_stories_sparse.nonzero()"
   ]
  },
  {
   "cell_type": "code",
   "execution_count": 11,
   "metadata": {
    "collapsed": true
   },
   "outputs": [],
   "source": [
    "# MATRIZ SPARSED (TRAIN Y TEST)\n",
    "train_dataset, test_dataset = make_train(favorite_stories_sparse, pct_test = 0.2)\n",
    "\n",
    "# SPLIT DATAFRAME \n",
    "train, test = train_test_split(grouped_stories, test_size=0.172)\n"
   ]
  },
  {
   "cell_type": "markdown",
   "metadata": {},
   "source": [
    "### ocupando libreria implicit: "
   ]
  },
  {
   "cell_type": "code",
   "execution_count": 12,
   "metadata": {},
   "outputs": [
    {
     "name": "stderr",
     "output_type": "stream",
     "text": [
      "This method is deprecated. Please use the AlternatingLeastSquares class instead\n"
     ]
    }
   ],
   "source": [
    "#averiguar que significa el alpha... \n",
    "alpha = 15\n",
    "#alpha - parametro discutido en el paper de Koren & Volinsky asociado a la matriz de confianza, \n",
    "#donde Cui = 1 + alpha*Rui. \n",
    "# Rui --> preferencia del usuario \"u\" por el item \"i\" , si Rui > 0 hay una preferencia (interaccion)\n",
    "#En el paper obtienen que el default de alpha debe ser 40 (el mas efectivo) . \n",
    "\n",
    "user_vecs, item_vecs = implicit.alternating_least_squares((train_dataset*alpha).astype('double'), \n",
    "                                                          factors=300, \n",
    "                                                          regularization = 0.1, \n",
    "                                                         iterations = 1)"
   ]
  },
  {
   "cell_type": "code",
   "execution_count": 18,
   "metadata": {},
   "outputs": [
    {
     "ename": "NameError",
     "evalue": "name 'user_vecs' is not defined",
     "output_type": "error",
     "traceback": [
      "\u001b[0;31m---------------------------------------------------------------------------\u001b[0m",
      "\u001b[0;31mNameError\u001b[0m                                 Traceback (most recent call last)",
      "\u001b[0;32m<ipython-input-18-a1ae214b7a16>\u001b[0m in \u001b[0;36m<module>\u001b[0;34m()\u001b[0m\n\u001b[0;32m----> 1\u001b[0;31m \u001b[0muser_vecs\u001b[0m\u001b[0;34m[\u001b[0m\u001b[0;36m0\u001b[0m\u001b[0;34m,\u001b[0m\u001b[0;34m:\u001b[0m\u001b[0;34m]\u001b[0m\u001b[0;34m\u001b[0m\u001b[0m\n\u001b[0m",
      "\u001b[0;31mNameError\u001b[0m: name 'user_vecs' is not defined"
     ]
    }
   ],
   "source": [
    "user_vecs[0,:]"
   ]
  },
  {
   "cell_type": "code",
   "execution_count": 12,
   "metadata": {
    "collapsed": true
   },
   "outputs": [],
   "source": [
    "users_arr = np.array(users) \n",
    "stories_arr = np.array(stories) "
   ]
  },
  {
   "cell_type": "code",
   "execution_count": 13,
   "metadata": {
    "collapsed": true
   },
   "outputs": [],
   "source": [
    "def get_favorite_stories(user_id):\n",
    "    return cleaned_data.loc[cleaned_data['user_id'] == user_id][['story_id']]\n",
    "\n",
    "def get_favorite_stories_test(user_id):\n",
    "    return test.loc[test['user_id'] == user_id][['story_id']]"
   ]
  },
  {
   "cell_type": "code",
   "execution_count": 14,
   "metadata": {},
   "outputs": [
    {
     "data": {
      "text/plain": [
       "array([ 8139,  8334,  8945, 10907, 16056, 17420, 19705, 21565, 22848, 23131])"
      ]
     },
     "execution_count": 14,
     "metadata": {},
     "output_type": "execute_result"
    }
   ],
   "source": [
    "users_arr[:10]"
   ]
  },
  {
   "cell_type": "markdown",
   "metadata": {},
   "source": [
    "### Favorite stories user: 8334"
   ]
  },
  {
   "cell_type": "code",
   "execution_count": 15,
   "metadata": {},
   "outputs": [
    {
     "data": {
      "text/html": [
       "<div>\n",
       "<style>\n",
       "    .dataframe thead tr:only-child th {\n",
       "        text-align: right;\n",
       "    }\n",
       "\n",
       "    .dataframe thead th {\n",
       "        text-align: left;\n",
       "    }\n",
       "\n",
       "    .dataframe tbody tr th {\n",
       "        vertical-align: top;\n",
       "    }\n",
       "</style>\n",
       "<table border=\"1\" class=\"dataframe\">\n",
       "  <thead>\n",
       "    <tr style=\"text-align: right;\">\n",
       "      <th></th>\n",
       "      <th>story_id</th>\n",
       "    </tr>\n",
       "  </thead>\n",
       "  <tbody>\n",
       "    <tr>\n",
       "      <th>24</th>\n",
       "      <td>1297048</td>\n",
       "    </tr>\n",
       "  </tbody>\n",
       "</table>\n",
       "</div>"
      ],
      "text/plain": [
       "    story_id\n",
       "24   1297048"
      ]
     },
     "execution_count": 15,
     "metadata": {},
     "output_type": "execute_result"
    }
   ],
   "source": [
    "get_favorite_stories_test(8334)"
   ]
  },
  {
   "cell_type": "code",
   "execution_count": 16,
   "metadata": {
    "collapsed": true
   },
   "outputs": [],
   "source": [
    "# ver bien como recomienda items, que hace esta funcion\n",
    "def rec_items(user_id, mf_train, user_vecs, item_vecs, user_list, item_list, item_lookup, num_items = 10):    \n",
    "    cust_ind = np.where(user_list == user_id)[0][0] # obtener el index de users id\n",
    "    pref_vec = mf_train[cust_ind,:].toarray() \n",
    "    pref_vec = pref_vec.reshape(-1) + 1 # asignamos 1 a todo, asi las historias no favoriteadas tendrán valor 1. \n",
    "    pref_vec[pref_vec > 1] = 0 # reemplazamos todo lo que ya fue favorito en zero\n",
    "    rec_vector = user_vecs[cust_ind,:].dot(item_vecs.T) # producto punto users e items transpuesto\n",
    "    \n",
    "    # Scale this recommendation vector between 0 and 1\n",
    "    min_max = MinMaxScaler()\n",
    "    \n",
    "    rec_vector_scaled = min_max.fit_transform(rec_vector.reshape(-1,1))[:,0]\n",
    "    # todos los items ya recomendados se multiplican por cero \n",
    "    recommend_vector = pref_vec*rec_vector_scaled \n",
    "    stories_idx = np.argsort(recommend_vector)[::-1][:num_items] # ordenamos los items y \n",
    "    # arriba quedan las mejores recomendaciones \n",
    "    rec_list = [] \n",
    "    for index in stories_idx:\n",
    "        code = item_list[index]\n",
    "        rec_list.append(code) \n",
    "    return rec_list # devolvemos una lista con los top 5 (num_items)"
   ]
  },
  {
   "cell_type": "code",
   "execution_count": 17,
   "metadata": {},
   "outputs": [
    {
     "ename": "NameError",
     "evalue": "name 'user_vecs' is not defined",
     "output_type": "error",
     "traceback": [
      "\u001b[0;31m---------------------------------------------------------------------------\u001b[0m",
      "\u001b[0;31mNameError\u001b[0m                                 Traceback (most recent call last)",
      "\u001b[0;32m<ipython-input-17-22236265d67d>\u001b[0m in \u001b[0;36m<module>\u001b[0;34m()\u001b[0m\n\u001b[0;32m----> 1\u001b[0;31m rec_items(8334, test_dataset, user_vecs, item_vecs, users_arr, stories_arr, item_lookup,\n\u001b[0m\u001b[1;32m      2\u001b[0m                        num_items = 5)\n",
      "\u001b[0;31mNameError\u001b[0m: name 'user_vecs' is not defined"
     ]
    }
   ],
   "source": [
    "rec_items(8334, test_dataset, user_vecs, item_vecs, users_arr, stories_arr, item_lookup,\n",
    "                       num_items = 5)"
   ]
  },
  {
   "cell_type": "code",
   "execution_count": 25,
   "metadata": {
    "collapsed": true
   },
   "outputs": [],
   "source": [
    "#user_ids = list(users_arr)\n",
    "\n",
    "#data = []\n",
    "\n",
    "#for x in user_ids:\n",
    "    \n",
    " #   try:\n",
    "    \n",
    "  \n",
    "  #      recommendation = rec_items(x,test_dataset, user_vecs, item_vecs, users_arr, stories_arr, item_lookup,\n",
    "                        #   num_items = 5)\n",
    "   #     data.append([x,recommendation])\n",
    "    \n",
    "   # except:\n",
    "    #    continue\n",
    "\n",
    "    \n",
    "\n",
    "#recsys = pd.DataFrame(data, columns = ['user', 'recommendation'])\n",
    "\n",
    "#recsys.to_csv('recommendation_results.csv', index = False)\n",
    "\n"
   ]
  },
  {
   "cell_type": "code",
   "execution_count": 18,
   "metadata": {
    "collapsed": true
   },
   "outputs": [],
   "source": [
    "# funcion para obtener la franquicia \n",
    "def get_franchise(item_id): \n",
    "    try:\n",
    "        result = list(set(ff_data.loc[ff_data['story_id'] == item_id]['franchise']))\n",
    "        return result\n",
    "    except:\n",
    "        pass"
   ]
  },
  {
   "cell_type": "markdown",
   "metadata": {},
   "source": [
    "### Recomendacion implicit feedback: entrena con train, recomienda con test, ground truth son historias favoritas de testing. (como recomienda a users del set de testing tienen que ser 3.000 que es el 20% del set de training 15.000) "
   ]
  },
  {
   "cell_type": "code",
   "execution_count": 48,
   "metadata": {},
   "outputs": [
    {
     "name": "stderr",
     "output_type": "stream",
     "text": [
      "This method is deprecated. Please use the AlternatingLeastSquares class instead\n"
     ]
    },
    {
     "name": "stdout",
     "output_type": "stream",
     "text": [
      "Recomendacion total: 75.96728491783142\n",
      " Recomendacion por usuario: 0.07596728491783142\n"
     ]
    }
   ],
   "source": [
    "import time \n",
    "\n",
    "# probar con nDCG@5, precision@5\n",
    "user_ids = list(users_arr)\n",
    "alpha = 60 \n",
    "\n",
    "#alpha - parametro discutido en el paper de Koren & Volinsky sobre la matriz de confianza, \n",
    "#donde Cui = 1 + alpha*Rui. \n",
    "# Rui --> preferencia del usuario \"u\" por el item \"i\" , si Rui > 0 hay una preferencia (interaccion)\n",
    "#En el paper obtienen que el default de alpha debe ser 40 (el mas efectivo) . \n",
    "# Al disminuir alpha disminuye la variabilidad en el nivel de confianza entre varios items.\n",
    "\n",
    "\n",
    "data = []\n",
    "\n",
    "# entrena con dataset de training \n",
    "user_vecs, item_vecs = implicit.alternating_least_squares((train_dataset*alpha).astype('double'), \n",
    "                                                              factors=300, \n",
    "                                                              regularization = 0.1, \n",
    "                                                             iterations = 2)\n",
    "t0 = time.time()\n",
    "for i in user_ids[0:1000]:\n",
    "      \n",
    "    # recomienda con el dataset de test recibe los vectores user/item del entrenamiento de modelo \n",
    "    recommendation = rec_items(i, test_dataset, user_vecs, item_vecs, users_arr, stories_arr, item_lookup,\n",
    "                           num_items = 5)\n",
    "    \n",
    "    # obtiene historias favoritas del set de testing\n",
    "    fav_stories = list(get_favorite_stories_test(i)['story_id'])\n",
    "\n",
    "    # si la historia recomendada esta dentro de sus favoritas del set de test, relevantes append 1  \n",
    "    relevantes_implicit = []  \n",
    "    \n",
    "    for x in recommendation:\n",
    "        \n",
    "        if x in fav_stories:\n",
    "            relevantes_implicit.append(1)\n",
    "            \n",
    "        else:\n",
    "            relevantes_implicit.append(0)\n",
    "    \n",
    "    \n",
    "    #print(recommendation)\n",
    "    #print(fav_stories)\n",
    "    \n",
    "    relevantes_implicit = relevantes_implicit[0:5]\n",
    "\n",
    "    # calculamos nDCG@10 y precision@10\n",
    "    ndcg5 = ndcg.ndcg(relevantes_implicit,5)\n",
    "    precision5 = MAP.precision_at_k(relevantes_implicit,5)\n",
    "    lista_MAP = [MAP.precision_at_k(relevantes_implicit,x) for x in range(1, len(relevantes_implicit))]\n",
    "    mean_average_precision = reduce(lambda x, y: x + y, lista_MAP) / len(lista_MAP)\n",
    "\n",
    "    data.append(['{}'.format(i), ndcg5, precision5, mean_average_precision])\n",
    "    df_iter = pd.DataFrame(data, columns = ('user', 'ndcg@5', 'precision@5', 'MAP'))\n",
    "\n",
    "t1 = time.time()\n",
    "    \n",
    "print('Recomendacion total: {}\\n Recomendacion por usuario: {}'.format((t1-t0), (t1-t0)/1000))\n",
    "    \n",
    "df_iter.to_csv('implicit_ndcg_story_results_books.csv', index=False)\n",
    "     "
   ]
  },
  {
   "cell_type": "code",
   "execution_count": 49,
   "metadata": {},
   "outputs": [
    {
     "data": {
      "text/html": [
       "<div>\n",
       "<style>\n",
       "    .dataframe thead tr:only-child th {\n",
       "        text-align: right;\n",
       "    }\n",
       "\n",
       "    .dataframe thead th {\n",
       "        text-align: left;\n",
       "    }\n",
       "\n",
       "    .dataframe tbody tr th {\n",
       "        vertical-align: top;\n",
       "    }\n",
       "</style>\n",
       "<table border=\"1\" class=\"dataframe\">\n",
       "  <thead>\n",
       "    <tr style=\"text-align: right;\">\n",
       "      <th></th>\n",
       "      <th>user</th>\n",
       "      <th>ndcg@5</th>\n",
       "      <th>precision@5</th>\n",
       "      <th>MAP</th>\n",
       "    </tr>\n",
       "  </thead>\n",
       "  <tbody>\n",
       "    <tr>\n",
       "      <th>count</th>\n",
       "      <td>1000.000000</td>\n",
       "      <td>1000.000000</td>\n",
       "      <td>1000.000000</td>\n",
       "      <td>1000.000000</td>\n",
       "    </tr>\n",
       "    <tr>\n",
       "      <th>mean</th>\n",
       "      <td>340388.028000</td>\n",
       "      <td>0.298838</td>\n",
       "      <td>0.118200</td>\n",
       "      <td>0.131354</td>\n",
       "    </tr>\n",
       "    <tr>\n",
       "      <th>std</th>\n",
       "      <td>139722.018092</td>\n",
       "      <td>0.361842</td>\n",
       "      <td>0.149436</td>\n",
       "      <td>0.209502</td>\n",
       "    </tr>\n",
       "    <tr>\n",
       "      <th>min</th>\n",
       "      <td>8139.000000</td>\n",
       "      <td>0.000000</td>\n",
       "      <td>0.000000</td>\n",
       "      <td>0.000000</td>\n",
       "    </tr>\n",
       "    <tr>\n",
       "      <th>25%</th>\n",
       "      <td>248368.500000</td>\n",
       "      <td>0.000000</td>\n",
       "      <td>0.000000</td>\n",
       "      <td>0.000000</td>\n",
       "    </tr>\n",
       "    <tr>\n",
       "      <th>50%</th>\n",
       "      <td>358484.500000</td>\n",
       "      <td>0.000000</td>\n",
       "      <td>0.000000</td>\n",
       "      <td>0.000000</td>\n",
       "    </tr>\n",
       "    <tr>\n",
       "      <th>75%</th>\n",
       "      <td>450241.750000</td>\n",
       "      <td>0.582553</td>\n",
       "      <td>0.200000</td>\n",
       "      <td>0.208333</td>\n",
       "    </tr>\n",
       "    <tr>\n",
       "      <th>max</th>\n",
       "      <td>551704.000000</td>\n",
       "      <td>1.000000</td>\n",
       "      <td>0.800000</td>\n",
       "      <td>0.937500</td>\n",
       "    </tr>\n",
       "  </tbody>\n",
       "</table>\n",
       "</div>"
      ],
      "text/plain": [
       "                user       ndcg@5  precision@5          MAP\n",
       "count    1000.000000  1000.000000  1000.000000  1000.000000\n",
       "mean   340388.028000     0.298838     0.118200     0.131354\n",
       "std    139722.018092     0.361842     0.149436     0.209502\n",
       "min      8139.000000     0.000000     0.000000     0.000000\n",
       "25%    248368.500000     0.000000     0.000000     0.000000\n",
       "50%    358484.500000     0.000000     0.000000     0.000000\n",
       "75%    450241.750000     0.582553     0.200000     0.208333\n",
       "max    551704.000000     1.000000     0.800000     0.937500"
      ]
     },
     "execution_count": 49,
     "metadata": {},
     "output_type": "execute_result"
    }
   ],
   "source": [
    "results = pd.read_csv('implicit_ndcg_story_results_books.csv', sep=',')\n",
    "results.describe()"
   ]
  },
  {
   "cell_type": "markdown",
   "metadata": {},
   "source": [
    "### Recomendacion aleatoria: "
   ]
  },
  {
   "cell_type": "code",
   "execution_count": 19,
   "metadata": {
    "collapsed": true
   },
   "outputs": [],
   "source": [
    "franchises = list(set(ff_data['franchise']))"
   ]
  },
  {
   "cell_type": "code",
   "execution_count": 22,
   "metadata": {},
   "outputs": [
    {
     "name": "stdout",
     "output_type": "stream",
     "text": [
      "Recomendacion total: 29.41788911819458\n",
      " Recomendacion por usuario: 0.029417889118194582\n"
     ]
    }
   ],
   "source": [
    "import time \n",
    "\n",
    "# probar con nDCG@5, precision@5\n",
    "\n",
    "# muestra aleatoria de 1000 user ids (probar con todos). \n",
    "user_ids = list(users_arr)\n",
    "\n",
    "data = []\n",
    "\n",
    "\n",
    "t0 = time.time()\n",
    "for i in user_ids[0:3000]: \n",
    "    \n",
    "    # ingresar id usuario al que le vamos a recomendar \n",
    "    user_id = i\n",
    "\n",
    "    recommendation_random = random.sample(list(test['story_id'].unique()),5)     \n",
    "    \n",
    "    fav_stories = list(get_favorite_stories_test(user_id)['story_id'])\n",
    "    \n",
    "    \n",
    "    # si la franquicia recomendada --> favoritas testingle agregamos \n",
    "    \n",
    "    relevantes_implicit = []  \n",
    "    \n",
    "    for x in recommendation_random:\n",
    "        if x in fav_stories:\n",
    "            relevantes_implicit.append(1)\n",
    "        else:\n",
    "            relevantes_implicit.append(0)\n",
    "      \n",
    "    # calculamos nDCG@5 y precision@5\n",
    "    ndcg5 = ndcg.ndcg(relevantes_implicit,5)\n",
    "    precision5 = MAP.precision_at_k(relevantes_implicit,5)\n",
    "    lista_MAP = [MAP.precision_at_k(relevantes_implicit,x) for x in range(1, len(relevantes_implicit))]\n",
    "    mean_average_precision = reduce(lambda x, y: x + y, lista_MAP) / len(lista_MAP)\n",
    "    \n",
    "    data.append(['{}'.format(i), ndcg5, precision5, mean_average_precision])\n",
    "    df_random = pd.DataFrame(data, columns = ('user', 'ndcg@5', 'precision@5', 'MAP'))\n",
    "\n",
    "t1 = time.time()\n",
    "    \n",
    "print('Recomendacion total: {}\\n Recomendacion por usuario: {}'.format((t1-t0), (t1-t0)/1000))\n",
    "#df_random\n",
    "\n",
    "df_random.to_csv('ndcg_results__stories_random_books.csv',index=False)"
   ]
  },
  {
   "cell_type": "code",
   "execution_count": 23,
   "metadata": {},
   "outputs": [
    {
     "data": {
      "text/html": [
       "<div>\n",
       "<style>\n",
       "    .dataframe thead tr:only-child th {\n",
       "        text-align: right;\n",
       "    }\n",
       "\n",
       "    .dataframe thead th {\n",
       "        text-align: left;\n",
       "    }\n",
       "\n",
       "    .dataframe tbody tr th {\n",
       "        vertical-align: top;\n",
       "    }\n",
       "</style>\n",
       "<table border=\"1\" class=\"dataframe\">\n",
       "  <thead>\n",
       "    <tr style=\"text-align: right;\">\n",
       "      <th></th>\n",
       "      <th>user</th>\n",
       "      <th>ndcg@5</th>\n",
       "      <th>precision@5</th>\n",
       "      <th>MAP</th>\n",
       "    </tr>\n",
       "  </thead>\n",
       "  <tbody>\n",
       "    <tr>\n",
       "      <th>count</th>\n",
       "      <td>3.000000e+03</td>\n",
       "      <td>3000.000000</td>\n",
       "      <td>3000.000000</td>\n",
       "      <td>3000.000000</td>\n",
       "    </tr>\n",
       "    <tr>\n",
       "      <th>mean</th>\n",
       "      <td>7.279414e+05</td>\n",
       "      <td>0.000144</td>\n",
       "      <td>0.000067</td>\n",
       "      <td>0.000021</td>\n",
       "    </tr>\n",
       "    <tr>\n",
       "      <th>std</th>\n",
       "      <td>3.346206e+05</td>\n",
       "      <td>0.007863</td>\n",
       "      <td>0.003651</td>\n",
       "      <td>0.001141</td>\n",
       "    </tr>\n",
       "    <tr>\n",
       "      <th>min</th>\n",
       "      <td>8.139000e+03</td>\n",
       "      <td>0.000000</td>\n",
       "      <td>0.000000</td>\n",
       "      <td>0.000000</td>\n",
       "    </tr>\n",
       "    <tr>\n",
       "      <th>25%</th>\n",
       "      <td>4.503092e+05</td>\n",
       "      <td>0.000000</td>\n",
       "      <td>0.000000</td>\n",
       "      <td>0.000000</td>\n",
       "    </tr>\n",
       "    <tr>\n",
       "      <th>50%</th>\n",
       "      <td>7.375895e+05</td>\n",
       "      <td>0.000000</td>\n",
       "      <td>0.000000</td>\n",
       "      <td>0.000000</td>\n",
       "    </tr>\n",
       "    <tr>\n",
       "      <th>75%</th>\n",
       "      <td>1.009976e+06</td>\n",
       "      <td>0.000000</td>\n",
       "      <td>0.000000</td>\n",
       "      <td>0.000000</td>\n",
       "    </tr>\n",
       "    <tr>\n",
       "      <th>max</th>\n",
       "      <td>1.297258e+06</td>\n",
       "      <td>0.430677</td>\n",
       "      <td>0.200000</td>\n",
       "      <td>0.062500</td>\n",
       "    </tr>\n",
       "  </tbody>\n",
       "</table>\n",
       "</div>"
      ],
      "text/plain": [
       "               user       ndcg@5  precision@5          MAP\n",
       "count  3.000000e+03  3000.000000  3000.000000  3000.000000\n",
       "mean   7.279414e+05     0.000144     0.000067     0.000021\n",
       "std    3.346206e+05     0.007863     0.003651     0.001141\n",
       "min    8.139000e+03     0.000000     0.000000     0.000000\n",
       "25%    4.503092e+05     0.000000     0.000000     0.000000\n",
       "50%    7.375895e+05     0.000000     0.000000     0.000000\n",
       "75%    1.009976e+06     0.000000     0.000000     0.000000\n",
       "max    1.297258e+06     0.430677     0.200000     0.062500"
      ]
     },
     "execution_count": 23,
     "metadata": {},
     "output_type": "execute_result"
    }
   ],
   "source": [
    "results_random = pd.read_csv('ndcg_results__stories_random_books.csv', sep=',')\n",
    "results_random.describe()"
   ]
  },
  {
   "cell_type": "markdown",
   "metadata": {},
   "source": [
    "### Recomendacion most popular:"
   ]
  },
  {
   "cell_type": "code",
   "execution_count": 24,
   "metadata": {},
   "outputs": [
    {
     "data": {
      "text/plain": [
       "[2636963, 5100876, 5782108, 6291747, 5319052]"
      ]
     },
     "execution_count": 24,
     "metadata": {},
     "output_type": "execute_result"
    }
   ],
   "source": [
    "most_popular = ff_data['story_id'].value_counts().index.tolist()[0:5]\n",
    "most_popular"
   ]
  },
  {
   "cell_type": "code",
   "execution_count": 25,
   "metadata": {},
   "outputs": [
    {
     "name": "stdout",
     "output_type": "stream",
     "text": [
      "Recomendacion total: 6.75273585319519\n",
      " Recomendacion por usuario: 0.00675273585319519\n"
     ]
    }
   ],
   "source": [
    "# probar con nDCG@5, precision@5\n",
    "\n",
    "# muestra aleatoria de 1000 user ids. \n",
    "user_ids = list(users_arr)\n",
    "\n",
    "data = []\n",
    "\n",
    "\n",
    "t0 = time.time()\n",
    "\n",
    "for i in user_ids[0:3000]: \n",
    "    \n",
    "    # ingresar id usuario al que le vamos a recomendar \n",
    "    user_id = i\n",
    "    \n",
    "    fav_stories = list(get_favorite_stories_test(user_id)['story_id'])\n",
    "    \n",
    "    relevantes_implicit = []  \n",
    "       \n",
    "    for x in most_popular:\n",
    "        if x in fav_stories:\n",
    "            relevantes_implicit.append(1)\n",
    "        \n",
    "        else:\n",
    "            relevantes_implicit.append(0)\n",
    "    \n",
    "    relevantes_implicit = relevantes_implicit[0:5]\n",
    "      \n",
    "    # calculamos nDCG@5 y precision@10\n",
    "    ndcg5 = ndcg.ndcg(relevantes_implicit,5)\n",
    "    precision5 = MAP.precision_at_k(relevantes_implicit,5)\n",
    "    lista_MAP = [MAP.precision_at_k(relevantes_implicit,x) for x in range(1, len(relevantes_implicit))]\n",
    "    mean_average_precision = reduce(lambda x, y: x + y, lista_MAP) / len(lista_MAP)\n",
    "    \n",
    "    data.append(['{}'.format(i), ndcg5, precision5, mean_average_precision])\n",
    "    df_most_popular = pd.DataFrame(data, columns = ('user', 'ndcg@5', 'precision@5', 'MAP'))\n",
    "\n",
    "#df_most_popular\n",
    "t1 = time.time()\n",
    "    \n",
    "print('Recomendacion total: {}\\n Recomendacion por usuario: {}'.format((t1-t0), (t1-t0)/1000))\n",
    "\n",
    "df_most_popular.to_csv('ndcg_stories_results_popular_books.csv',index=False)\n"
   ]
  },
  {
   "cell_type": "code",
   "execution_count": 26,
   "metadata": {},
   "outputs": [
    {
     "ename": "FileNotFoundError",
     "evalue": "File b'ndcg__stories_results_popular_books.csv' does not exist",
     "output_type": "error",
     "traceback": [
      "\u001b[0;31m---------------------------------------------------------------------------\u001b[0m",
      "\u001b[0;31mFileNotFoundError\u001b[0m                         Traceback (most recent call last)",
      "\u001b[0;32m<ipython-input-26-7d7daba03a98>\u001b[0m in \u001b[0;36m<module>\u001b[0;34m()\u001b[0m\n\u001b[0;32m----> 1\u001b[0;31m \u001b[0mresults_popular\u001b[0m \u001b[0;34m=\u001b[0m \u001b[0mpd\u001b[0m\u001b[0;34m.\u001b[0m\u001b[0mread_csv\u001b[0m\u001b[0;34m(\u001b[0m\u001b[0;34m'ndcg__stories_results_popular_books.csv'\u001b[0m\u001b[0;34m,\u001b[0m \u001b[0msep\u001b[0m\u001b[0;34m=\u001b[0m\u001b[0;34m','\u001b[0m\u001b[0;34m)\u001b[0m\u001b[0;34m\u001b[0m\u001b[0m\n\u001b[0m\u001b[1;32m      2\u001b[0m \u001b[0mresults_popular\u001b[0m\u001b[0;34m.\u001b[0m\u001b[0mdescribe\u001b[0m\u001b[0;34m(\u001b[0m\u001b[0;34m)\u001b[0m\u001b[0;34m\u001b[0m\u001b[0m\n",
      "\u001b[0;32m/usr/local/lib/python3.6/site-packages/pandas/io/parsers.py\u001b[0m in \u001b[0;36mparser_f\u001b[0;34m(filepath_or_buffer, sep, delimiter, header, names, index_col, usecols, squeeze, prefix, mangle_dupe_cols, dtype, engine, converters, true_values, false_values, skipinitialspace, skiprows, nrows, na_values, keep_default_na, na_filter, verbose, skip_blank_lines, parse_dates, infer_datetime_format, keep_date_col, date_parser, dayfirst, iterator, chunksize, compression, thousands, decimal, lineterminator, quotechar, quoting, escapechar, comment, encoding, dialect, tupleize_cols, error_bad_lines, warn_bad_lines, skipfooter, skip_footer, doublequote, delim_whitespace, as_recarray, compact_ints, use_unsigned, low_memory, buffer_lines, memory_map, float_precision)\u001b[0m\n\u001b[1;32m    653\u001b[0m                     skip_blank_lines=skip_blank_lines)\n\u001b[1;32m    654\u001b[0m \u001b[0;34m\u001b[0m\u001b[0m\n\u001b[0;32m--> 655\u001b[0;31m         \u001b[0;32mreturn\u001b[0m \u001b[0m_read\u001b[0m\u001b[0;34m(\u001b[0m\u001b[0mfilepath_or_buffer\u001b[0m\u001b[0;34m,\u001b[0m \u001b[0mkwds\u001b[0m\u001b[0;34m)\u001b[0m\u001b[0;34m\u001b[0m\u001b[0m\n\u001b[0m\u001b[1;32m    656\u001b[0m \u001b[0;34m\u001b[0m\u001b[0m\n\u001b[1;32m    657\u001b[0m     \u001b[0mparser_f\u001b[0m\u001b[0;34m.\u001b[0m\u001b[0m__name__\u001b[0m \u001b[0;34m=\u001b[0m \u001b[0mname\u001b[0m\u001b[0;34m\u001b[0m\u001b[0m\n",
      "\u001b[0;32m/usr/local/lib/python3.6/site-packages/pandas/io/parsers.py\u001b[0m in \u001b[0;36m_read\u001b[0;34m(filepath_or_buffer, kwds)\u001b[0m\n\u001b[1;32m    403\u001b[0m \u001b[0;34m\u001b[0m\u001b[0m\n\u001b[1;32m    404\u001b[0m     \u001b[0;31m# Create the parser.\u001b[0m\u001b[0;34m\u001b[0m\u001b[0;34m\u001b[0m\u001b[0m\n\u001b[0;32m--> 405\u001b[0;31m     \u001b[0mparser\u001b[0m \u001b[0;34m=\u001b[0m \u001b[0mTextFileReader\u001b[0m\u001b[0;34m(\u001b[0m\u001b[0mfilepath_or_buffer\u001b[0m\u001b[0;34m,\u001b[0m \u001b[0;34m**\u001b[0m\u001b[0mkwds\u001b[0m\u001b[0;34m)\u001b[0m\u001b[0;34m\u001b[0m\u001b[0m\n\u001b[0m\u001b[1;32m    406\u001b[0m \u001b[0;34m\u001b[0m\u001b[0m\n\u001b[1;32m    407\u001b[0m     \u001b[0;32mif\u001b[0m \u001b[0mchunksize\u001b[0m \u001b[0;32mor\u001b[0m \u001b[0miterator\u001b[0m\u001b[0;34m:\u001b[0m\u001b[0;34m\u001b[0m\u001b[0m\n",
      "\u001b[0;32m/usr/local/lib/python3.6/site-packages/pandas/io/parsers.py\u001b[0m in \u001b[0;36m__init__\u001b[0;34m(self, f, engine, **kwds)\u001b[0m\n\u001b[1;32m    762\u001b[0m             \u001b[0mself\u001b[0m\u001b[0;34m.\u001b[0m\u001b[0moptions\u001b[0m\u001b[0;34m[\u001b[0m\u001b[0;34m'has_index_names'\u001b[0m\u001b[0;34m]\u001b[0m \u001b[0;34m=\u001b[0m \u001b[0mkwds\u001b[0m\u001b[0;34m[\u001b[0m\u001b[0;34m'has_index_names'\u001b[0m\u001b[0;34m]\u001b[0m\u001b[0;34m\u001b[0m\u001b[0m\n\u001b[1;32m    763\u001b[0m \u001b[0;34m\u001b[0m\u001b[0m\n\u001b[0;32m--> 764\u001b[0;31m         \u001b[0mself\u001b[0m\u001b[0;34m.\u001b[0m\u001b[0m_make_engine\u001b[0m\u001b[0;34m(\u001b[0m\u001b[0mself\u001b[0m\u001b[0;34m.\u001b[0m\u001b[0mengine\u001b[0m\u001b[0;34m)\u001b[0m\u001b[0;34m\u001b[0m\u001b[0m\n\u001b[0m\u001b[1;32m    765\u001b[0m \u001b[0;34m\u001b[0m\u001b[0m\n\u001b[1;32m    766\u001b[0m     \u001b[0;32mdef\u001b[0m \u001b[0mclose\u001b[0m\u001b[0;34m(\u001b[0m\u001b[0mself\u001b[0m\u001b[0;34m)\u001b[0m\u001b[0;34m:\u001b[0m\u001b[0;34m\u001b[0m\u001b[0m\n",
      "\u001b[0;32m/usr/local/lib/python3.6/site-packages/pandas/io/parsers.py\u001b[0m in \u001b[0;36m_make_engine\u001b[0;34m(self, engine)\u001b[0m\n\u001b[1;32m    983\u001b[0m     \u001b[0;32mdef\u001b[0m \u001b[0m_make_engine\u001b[0m\u001b[0;34m(\u001b[0m\u001b[0mself\u001b[0m\u001b[0;34m,\u001b[0m \u001b[0mengine\u001b[0m\u001b[0;34m=\u001b[0m\u001b[0;34m'c'\u001b[0m\u001b[0;34m)\u001b[0m\u001b[0;34m:\u001b[0m\u001b[0;34m\u001b[0m\u001b[0m\n\u001b[1;32m    984\u001b[0m         \u001b[0;32mif\u001b[0m \u001b[0mengine\u001b[0m \u001b[0;34m==\u001b[0m \u001b[0;34m'c'\u001b[0m\u001b[0;34m:\u001b[0m\u001b[0;34m\u001b[0m\u001b[0m\n\u001b[0;32m--> 985\u001b[0;31m             \u001b[0mself\u001b[0m\u001b[0;34m.\u001b[0m\u001b[0m_engine\u001b[0m \u001b[0;34m=\u001b[0m \u001b[0mCParserWrapper\u001b[0m\u001b[0;34m(\u001b[0m\u001b[0mself\u001b[0m\u001b[0;34m.\u001b[0m\u001b[0mf\u001b[0m\u001b[0;34m,\u001b[0m \u001b[0;34m**\u001b[0m\u001b[0mself\u001b[0m\u001b[0;34m.\u001b[0m\u001b[0moptions\u001b[0m\u001b[0;34m)\u001b[0m\u001b[0;34m\u001b[0m\u001b[0m\n\u001b[0m\u001b[1;32m    986\u001b[0m         \u001b[0;32melse\u001b[0m\u001b[0;34m:\u001b[0m\u001b[0;34m\u001b[0m\u001b[0m\n\u001b[1;32m    987\u001b[0m             \u001b[0;32mif\u001b[0m \u001b[0mengine\u001b[0m \u001b[0;34m==\u001b[0m \u001b[0;34m'python'\u001b[0m\u001b[0;34m:\u001b[0m\u001b[0;34m\u001b[0m\u001b[0m\n",
      "\u001b[0;32m/usr/local/lib/python3.6/site-packages/pandas/io/parsers.py\u001b[0m in \u001b[0;36m__init__\u001b[0;34m(self, src, **kwds)\u001b[0m\n\u001b[1;32m   1603\u001b[0m         \u001b[0mkwds\u001b[0m\u001b[0;34m[\u001b[0m\u001b[0;34m'allow_leading_cols'\u001b[0m\u001b[0;34m]\u001b[0m \u001b[0;34m=\u001b[0m \u001b[0mself\u001b[0m\u001b[0;34m.\u001b[0m\u001b[0mindex_col\u001b[0m \u001b[0;32mis\u001b[0m \u001b[0;32mnot\u001b[0m \u001b[0;32mFalse\u001b[0m\u001b[0;34m\u001b[0m\u001b[0m\n\u001b[1;32m   1604\u001b[0m \u001b[0;34m\u001b[0m\u001b[0m\n\u001b[0;32m-> 1605\u001b[0;31m         \u001b[0mself\u001b[0m\u001b[0;34m.\u001b[0m\u001b[0m_reader\u001b[0m \u001b[0;34m=\u001b[0m \u001b[0mparsers\u001b[0m\u001b[0;34m.\u001b[0m\u001b[0mTextReader\u001b[0m\u001b[0;34m(\u001b[0m\u001b[0msrc\u001b[0m\u001b[0;34m,\u001b[0m \u001b[0;34m**\u001b[0m\u001b[0mkwds\u001b[0m\u001b[0;34m)\u001b[0m\u001b[0;34m\u001b[0m\u001b[0m\n\u001b[0m\u001b[1;32m   1606\u001b[0m \u001b[0;34m\u001b[0m\u001b[0m\n\u001b[1;32m   1607\u001b[0m         \u001b[0;31m# XXX\u001b[0m\u001b[0;34m\u001b[0m\u001b[0;34m\u001b[0m\u001b[0m\n",
      "\u001b[0;32mpandas/_libs/parsers.pyx\u001b[0m in \u001b[0;36mpandas._libs.parsers.TextReader.__cinit__ (pandas/_libs/parsers.c:4209)\u001b[0;34m()\u001b[0m\n",
      "\u001b[0;32mpandas/_libs/parsers.pyx\u001b[0m in \u001b[0;36mpandas._libs.parsers.TextReader._setup_parser_source (pandas/_libs/parsers.c:8873)\u001b[0;34m()\u001b[0m\n",
      "\u001b[0;31mFileNotFoundError\u001b[0m: File b'ndcg__stories_results_popular_books.csv' does not exist"
     ]
    }
   ],
   "source": [
    "results_popular = pd.read_csv('ndcg__stories_results_popular_books.csv', sep=',')\n",
    "results_popular.describe()"
   ]
  },
  {
   "cell_type": "code",
   "execution_count": 41,
   "metadata": {},
   "outputs": [
    {
     "data": {
      "text/html": [
       "<div>\n",
       "<style>\n",
       "    .dataframe thead tr:only-child th {\n",
       "        text-align: right;\n",
       "    }\n",
       "\n",
       "    .dataframe thead th {\n",
       "        text-align: left;\n",
       "    }\n",
       "\n",
       "    .dataframe tbody tr th {\n",
       "        vertical-align: top;\n",
       "    }\n",
       "</style>\n",
       "<table border=\"1\" class=\"dataframe\">\n",
       "  <thead>\n",
       "    <tr style=\"text-align: right;\">\n",
       "      <th></th>\n",
       "      <th>user_id</th>\n",
       "      <th>rec_stories</th>\n",
       "    </tr>\n",
       "  </thead>\n",
       "  <tbody>\n",
       "    <tr>\n",
       "      <th>0</th>\n",
       "      <td>102390</td>\n",
       "      <td>[9060508, 6560750, 11298223, 3157478, 10562882]</td>\n",
       "    </tr>\n",
       "    <tr>\n",
       "      <th>1</th>\n",
       "      <td>4767346</td>\n",
       "      <td>[3157478, 6560750, 2493456, 4536005, 2477819]</td>\n",
       "    </tr>\n",
       "    <tr>\n",
       "      <th>2</th>\n",
       "      <td>5695337</td>\n",
       "      <td>[9060508, 11298223, 6704012, 9681062, 10096096]</td>\n",
       "    </tr>\n",
       "    <tr>\n",
       "      <th>3</th>\n",
       "      <td>5778823</td>\n",
       "      <td>[4946293, 7965930, 5716145, 6550419, 5882420]</td>\n",
       "    </tr>\n",
       "    <tr>\n",
       "      <th>4</th>\n",
       "      <td>6861153</td>\n",
       "      <td>[9060508, 11298223, 6704012, 9681062, 10096096]</td>\n",
       "    </tr>\n",
       "  </tbody>\n",
       "</table>\n",
       "</div>"
      ],
      "text/plain": [
       "   user_id                                      rec_stories\n",
       "0   102390  [9060508, 6560750, 11298223, 3157478, 10562882]\n",
       "1  4767346    [3157478, 6560750, 2493456, 4536005, 2477819]\n",
       "2  5695337  [9060508, 11298223, 6704012, 9681062, 10096096]\n",
       "3  5778823    [4946293, 7965930, 5716145, 6550419, 5882420]\n",
       "4  6861153  [9060508, 11298223, 6704012, 9681062, 10096096]"
      ]
     },
     "execution_count": 41,
     "metadata": {},
     "output_type": "execute_result"
    }
   ],
   "source": [
    "results_rec_FM = pd.read_csv('FM_results_story_features_PICKLE_10_iteraciones.csv', sep=';')\n",
    "results_rec_FM.head()"
   ]
  },
  {
   "cell_type": "code",
   "execution_count": 42,
   "metadata": {
    "collapsed": true
   },
   "outputs": [],
   "source": [
    "# convertimos cada elemento de la df a lista \n",
    "results_rec_FM['rec_stories'] = results_rec_FM['rec_stories'].apply(lambda x: literal_eval(x))"
   ]
  },
  {
   "cell_type": "code",
   "execution_count": 43,
   "metadata": {
    "collapsed": true
   },
   "outputs": [],
   "source": [
    "results_rec_FM = results_rec_FM.drop_duplicates(subset='user_id', keep=\"last\")"
   ]
  },
  {
   "cell_type": "code",
   "execution_count": 44,
   "metadata": {},
   "outputs": [
    {
     "data": {
      "text/plain": [
       "[3157478, 6560750, 2400483, 9060508, 8509020]"
      ]
     },
     "execution_count": 44,
     "metadata": {},
     "output_type": "execute_result"
    }
   ],
   "source": [
    "list(results_rec_FM.loc[results_rec_FM['user_id'] == 102390]['rec_stories'])[0]"
   ]
  },
  {
   "cell_type": "markdown",
   "metadata": {},
   "source": [
    "### calculamos los resultados de Factorization Machines con el mismo train y test de implicit feedback"
   ]
  },
  {
   "cell_type": "code",
   "execution_count": 45,
   "metadata": {
    "collapsed": true
   },
   "outputs": [],
   "source": [
    "# probar con nDCG@5, precision@5\n",
    "\n",
    "# muestra aleatoria de 1000 user ids. \n",
    "user_ids = list(results_rec_FM['user_id'])\n",
    "\n",
    "data = []\n",
    "\n",
    "for i in user_ids: \n",
    "    \n",
    "    # ingresar id usuario al que le vamos a recomendar \n",
    "    user_id = i\n",
    "    \n",
    "    fav_stories = list(get_favorite_stories_test(user_id)['story_id'])\n",
    "    \n",
    "    relevantes_FM = []  \n",
    "    \n",
    "    FM_recommendation = list(results_rec_FM.loc[results_rec_FM['user_id'] == i]['rec_stories'])[0]\n",
    "       \n",
    "    for x in FM_recommendation:\n",
    "        if x in fav_stories:\n",
    "            relevantes_FM.append(1)\n",
    "        \n",
    "        else:\n",
    "            relevantes_FM.append(0)\n",
    "    \n",
    "    relevantes_FM = relevantes_FM[0:5]\n",
    "      \n",
    "    # calculamos nDCG@5 y precision@10\n",
    "    ndcg5 = ndcg.ndcg(relevantes_FM,5)\n",
    "    precision5 = MAP.precision_at_k(relevantes_FM,5)\n",
    "    lista_MAP = [MAP.precision_at_k(relevantes_FM,x) for x in range(1, len(relevantes_FM))]\n",
    "    mean_average_precision = reduce(lambda x, y: x + y, lista_MAP) / len(lista_MAP)\n",
    "    \n",
    "    data.append(['{}'.format(i), ndcg5, precision5, mean_average_precision])\n",
    "    df_FM = pd.DataFrame(data, columns = ('user', 'ndcg@5', 'precision@5', 'MAP'))\n",
    "\n",
    "#df_most_popular\n",
    "\n",
    "df_FM.to_csv('ndcg_stories_results_FM.csv',index=False)\n",
    "\n"
   ]
  },
  {
   "cell_type": "code",
   "execution_count": 46,
   "metadata": {
    "collapsed": true
   },
   "outputs": [],
   "source": [
    "result_FM = pd.read_csv('ndcg_stories_results_FM.csv')"
   ]
  },
  {
   "cell_type": "code",
   "execution_count": 47,
   "metadata": {},
   "outputs": [
    {
     "data": {
      "text/html": [
       "<div>\n",
       "<style>\n",
       "    .dataframe thead tr:only-child th {\n",
       "        text-align: right;\n",
       "    }\n",
       "\n",
       "    .dataframe thead th {\n",
       "        text-align: left;\n",
       "    }\n",
       "\n",
       "    .dataframe tbody tr th {\n",
       "        vertical-align: top;\n",
       "    }\n",
       "</style>\n",
       "<table border=\"1\" class=\"dataframe\">\n",
       "  <thead>\n",
       "    <tr style=\"text-align: right;\">\n",
       "      <th></th>\n",
       "      <th>user</th>\n",
       "      <th>ndcg@5</th>\n",
       "      <th>precision@5</th>\n",
       "      <th>MAP</th>\n",
       "    </tr>\n",
       "  </thead>\n",
       "  <tbody>\n",
       "    <tr>\n",
       "      <th>count</th>\n",
       "      <td>8.610000e+02</td>\n",
       "      <td>861.000000</td>\n",
       "      <td>861.000000</td>\n",
       "      <td>861.000000</td>\n",
       "    </tr>\n",
       "    <tr>\n",
       "      <th>mean</th>\n",
       "      <td>3.702570e+06</td>\n",
       "      <td>0.017355</td>\n",
       "      <td>0.005807</td>\n",
       "      <td>0.006630</td>\n",
       "    </tr>\n",
       "    <tr>\n",
       "      <th>std</th>\n",
       "      <td>2.223395e+06</td>\n",
       "      <td>0.109806</td>\n",
       "      <td>0.034958</td>\n",
       "      <td>0.053535</td>\n",
       "    </tr>\n",
       "    <tr>\n",
       "      <th>min</th>\n",
       "      <td>1.090700e+04</td>\n",
       "      <td>0.000000</td>\n",
       "      <td>0.000000</td>\n",
       "      <td>0.000000</td>\n",
       "    </tr>\n",
       "    <tr>\n",
       "      <th>25%</th>\n",
       "      <td>1.805672e+06</td>\n",
       "      <td>0.000000</td>\n",
       "      <td>0.000000</td>\n",
       "      <td>0.000000</td>\n",
       "    </tr>\n",
       "    <tr>\n",
       "      <th>50%</th>\n",
       "      <td>3.445249e+06</td>\n",
       "      <td>0.000000</td>\n",
       "      <td>0.000000</td>\n",
       "      <td>0.000000</td>\n",
       "    </tr>\n",
       "    <tr>\n",
       "      <th>75%</th>\n",
       "      <td>5.360133e+06</td>\n",
       "      <td>0.000000</td>\n",
       "      <td>0.000000</td>\n",
       "      <td>0.000000</td>\n",
       "    </tr>\n",
       "    <tr>\n",
       "      <th>max</th>\n",
       "      <td>9.227721e+06</td>\n",
       "      <td>1.000000</td>\n",
       "      <td>0.400000</td>\n",
       "      <td>0.791667</td>\n",
       "    </tr>\n",
       "  </tbody>\n",
       "</table>\n",
       "</div>"
      ],
      "text/plain": [
       "               user      ndcg@5  precision@5         MAP\n",
       "count  8.610000e+02  861.000000   861.000000  861.000000\n",
       "mean   3.702570e+06    0.017355     0.005807    0.006630\n",
       "std    2.223395e+06    0.109806     0.034958    0.053535\n",
       "min    1.090700e+04    0.000000     0.000000    0.000000\n",
       "25%    1.805672e+06    0.000000     0.000000    0.000000\n",
       "50%    3.445249e+06    0.000000     0.000000    0.000000\n",
       "75%    5.360133e+06    0.000000     0.000000    0.000000\n",
       "max    9.227721e+06    1.000000     0.400000    0.791667"
      ]
     },
     "execution_count": 47,
     "metadata": {},
     "output_type": "execute_result"
    }
   ],
   "source": [
    "result_FM.describe()"
   ]
  },
  {
   "cell_type": "code",
   "execution_count": null,
   "metadata": {
    "collapsed": true
   },
   "outputs": [],
   "source": []
  },
  {
   "cell_type": "code",
   "execution_count": null,
   "metadata": {
    "collapsed": true
   },
   "outputs": [],
   "source": []
  },
  {
   "cell_type": "code",
   "execution_count": null,
   "metadata": {
    "collapsed": true
   },
   "outputs": [],
   "source": []
  }
 ],
 "metadata": {
  "kernelspec": {
   "display_name": "Python 3",
   "language": "python",
   "name": "python3"
  },
  "language_info": {
   "codemirror_mode": {
    "name": "ipython",
    "version": 3
   },
   "file_extension": ".py",
   "mimetype": "text/x-python",
   "name": "python",
   "nbconvert_exporter": "python",
   "pygments_lexer": "ipython3",
   "version": "3.6.1"
  }
 },
 "nbformat": 4,
 "nbformat_minor": 2
}
