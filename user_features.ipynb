{
 "cells": [
  {
   "cell_type": "code",
   "execution_count": 2,
   "metadata": {
    "collapsed": true
   },
   "outputs": [],
   "source": [
    "import pandas as pd\n",
    "import numpy as np"
   ]
  },
  {
   "cell_type": "code",
   "execution_count": 3,
   "metadata": {
    "collapsed": true
   },
   "outputs": [],
   "source": [
    "df_users = pd.read_csv('datasets_recsys/ff_users_all_tab_delimited.csv', sep='|')"
   ]
  },
  {
   "cell_type": "code",
   "execution_count": 4,
   "metadata": {},
   "outputs": [
    {
     "data": {
      "text/html": [
       "<div>\n",
       "<style>\n",
       "    .dataframe thead tr:only-child th {\n",
       "        text-align: right;\n",
       "    }\n",
       "\n",
       "    .dataframe thead th {\n",
       "        text-align: left;\n",
       "    }\n",
       "\n",
       "    .dataframe tbody tr th {\n",
       "        vertical-align: top;\n",
       "    }\n",
       "</style>\n",
       "<table border=\"1\" class=\"dataframe\">\n",
       "  <thead>\n",
       "    <tr style=\"text-align: right;\">\n",
       "      <th></th>\n",
       "      <th>author_name</th>\n",
       "      <th>author_bio</th>\n",
       "      <th>author_description</th>\n",
       "      <th>joined</th>\n",
       "      <th>favorite_authors</th>\n",
       "      <th>communities</th>\n",
       "      <th>my_stories</th>\n",
       "      <th>fav_stories</th>\n",
       "      <th>user_id</th>\n",
       "    </tr>\n",
       "  </thead>\n",
       "  <tbody>\n",
       "    <tr>\n",
       "      <th>0</th>\n",
       "      <td>Takeru Takaishi</td>\n",
       "      <td>Right now, my newest obsession is Yu-Gi-Oh! Du...</td>\n",
       "      <td>Author has written 4 stories for Digimon, Drag...</td>\n",
       "      <td>05-09-00</td>\n",
       "      <td>NaN</td>\n",
       "      <td>NaN</td>\n",
       "      <td>985272,303770,142387,25216</td>\n",
       "      <td>NaN</td>\n",
       "      <td>10000</td>\n",
       "    </tr>\n",
       "    <tr>\n",
       "      <th>1</th>\n",
       "      <td>SeaFairySakura</td>\n",
       "      <td>NaN</td>\n",
       "      <td>Author has written 1 story for Gundam Wing/AC.</td>\n",
       "      <td>08-03-01</td>\n",
       "      <td>NaN</td>\n",
       "      <td>NaN</td>\n",
       "      <td>382356</td>\n",
       "      <td>NaN</td>\n",
       "      <td>100000</td>\n",
       "    </tr>\n",
       "    <tr>\n",
       "      <th>2</th>\n",
       "      <td>St.Hoe</td>\n",
       "      <td>NaN</td>\n",
       "      <td>Author has written 1 story for Mutant X.</td>\n",
       "      <td>08-03-01</td>\n",
       "      <td>NaN</td>\n",
       "      <td>NaN</td>\n",
       "      <td>651636</td>\n",
       "      <td>762593</td>\n",
       "      <td>100001</td>\n",
       "    </tr>\n",
       "    <tr>\n",
       "      <th>3</th>\n",
       "      <td>RacerX1</td>\n",
       "      <td>NaN</td>\n",
       "      <td>NaN</td>\n",
       "      <td>08-03-01</td>\n",
       "      <td>NaN</td>\n",
       "      <td>NaN</td>\n",
       "      <td>NaN</td>\n",
       "      <td>NaN</td>\n",
       "      <td>100002</td>\n",
       "    </tr>\n",
       "    <tr>\n",
       "      <th>4</th>\n",
       "      <td>JoshBKFan</td>\n",
       "      <td>NaN</td>\n",
       "      <td>NaN</td>\n",
       "      <td>08-03-01</td>\n",
       "      <td>NaN</td>\n",
       "      <td>NaN</td>\n",
       "      <td>NaN</td>\n",
       "      <td>NaN</td>\n",
       "      <td>100003</td>\n",
       "    </tr>\n",
       "  </tbody>\n",
       "</table>\n",
       "</div>"
      ],
      "text/plain": [
       "        author_name                                         author_bio  \\\n",
       "0   Takeru Takaishi  Right now, my newest obsession is Yu-Gi-Oh! Du...   \n",
       "1    SeaFairySakura                                                NaN   \n",
       "2            St.Hoe                                                NaN   \n",
       "3           RacerX1                                                NaN   \n",
       "4         JoshBKFan                                                NaN   \n",
       "\n",
       "                                  author_description    joined  \\\n",
       "0  Author has written 4 stories for Digimon, Drag...  05-09-00   \n",
       "1     Author has written 1 story for Gundam Wing/AC.  08-03-01   \n",
       "2           Author has written 1 story for Mutant X.  08-03-01   \n",
       "3                                                NaN  08-03-01   \n",
       "4                                                NaN  08-03-01   \n",
       "\n",
       "  favorite_authors communities                  my_stories fav_stories  \\\n",
       "0              NaN         NaN  985272,303770,142387,25216         NaN   \n",
       "1              NaN         NaN                      382356         NaN   \n",
       "2              NaN         NaN                      651636      762593   \n",
       "3              NaN         NaN                         NaN         NaN   \n",
       "4              NaN         NaN                         NaN         NaN   \n",
       "\n",
       "   user_id  \n",
       "0    10000  \n",
       "1   100000  \n",
       "2   100001  \n",
       "3   100002  \n",
       "4   100003  "
      ]
     },
     "execution_count": 4,
     "metadata": {},
     "output_type": "execute_result"
    }
   ],
   "source": [
    "df_users.head()"
   ]
  },
  {
   "cell_type": "code",
   "execution_count": 5,
   "metadata": {
    "collapsed": true
   },
   "outputs": [],
   "source": [
    "# dejamos usuarios con alguna historia favorita \n",
    "df_users = df_users[pd.notnull(df_users['fav_stories'])]"
   ]
  },
  {
   "cell_type": "code",
   "execution_count": 6,
   "metadata": {
    "collapsed": true
   },
   "outputs": [],
   "source": [
    "# convertimos a listas \n",
    "# fav_stories\n",
    "df_users['fav_stories'] = df_users['fav_stories'].apply(lambda x: x.split(','))"
   ]
  },
  {
   "cell_type": "code",
   "execution_count": 7,
   "metadata": {
    "collapsed": true
   },
   "outputs": [],
   "source": [
    "# funcion splitter para convertir elementos a listas \n",
    "def splitter(x):\n",
    "    if type(x) == str:\n",
    "        x = x.split(',')\n",
    "    else:\n",
    "        x = 0\n",
    "    \n",
    "    return x"
   ]
  },
  {
   "cell_type": "code",
   "execution_count": 8,
   "metadata": {
    "collapsed": true
   },
   "outputs": [],
   "source": [
    "def community(x):\n",
    "    if type(x) == str:\n",
    "        x = 1\n",
    "    else:\n",
    "        x = 0 \n",
    "    \n",
    "    return x"
   ]
  },
  {
   "cell_type": "code",
   "execution_count": 9,
   "metadata": {
    "collapsed": true
   },
   "outputs": [],
   "source": [
    "# cuenta el largo de cada lista para saber # autores favoritos, # fav_stories , # written stories \n",
    "def counter(x):\n",
    "    if x != 0:\n",
    "        x = len(x)\n",
    "    else:\n",
    "        x = 0\n",
    "        \n",
    "    return x"
   ]
  },
  {
   "cell_type": "code",
   "execution_count": 10,
   "metadata": {
    "collapsed": true
   },
   "outputs": [],
   "source": [
    "def bio_words(x):\n",
    "    if type(x) == str:\n",
    "        x = len(x)\n",
    "    else:\n",
    "        x = 0\n",
    "    \n",
    "    return x "
   ]
  },
  {
   "cell_type": "code",
   "execution_count": 11,
   "metadata": {
    "collapsed": true
   },
   "outputs": [],
   "source": [
    "# my_stories \n",
    "df_users['my_stories'] = df_users['my_stories'].apply(lambda x: splitter(x))"
   ]
  },
  {
   "cell_type": "code",
   "execution_count": 12,
   "metadata": {
    "collapsed": true
   },
   "outputs": [],
   "source": [
    "# favorite authors \n",
    "df_users['favorite_authors'] = df_users['favorite_authors'].apply(lambda x: splitter(x))"
   ]
  },
  {
   "cell_type": "code",
   "execution_count": 13,
   "metadata": {
    "collapsed": true
   },
   "outputs": [],
   "source": [
    "# community 1 si pertenece a una , 0 en caso contrario \n",
    "df_users['communities'] = df_users['communities'].apply(lambda x: community(x))"
   ]
  },
  {
   "cell_type": "code",
   "execution_count": 14,
   "metadata": {
    "collapsed": true
   },
   "outputs": [],
   "source": [
    "# feature cantidad de historias escritas si es autor \n",
    "df_users['q_written'] = df_users['my_stories'].apply(lambda x: counter(x))"
   ]
  },
  {
   "cell_type": "code",
   "execution_count": 15,
   "metadata": {
    "collapsed": true
   },
   "outputs": [],
   "source": [
    "# feature cantidad de historias favoritas \n",
    "df_users['q_favs'] = df_users['fav_stories'].apply(lambda x: counter(x))"
   ]
  },
  {
   "cell_type": "code",
   "execution_count": 16,
   "metadata": {
    "collapsed": true
   },
   "outputs": [],
   "source": [
    "# feature cantidad de autores favoritos \n",
    "df_users['q_fav_authors'] = df_users['favorite_authors'].apply(lambda x: counter(x))"
   ]
  },
  {
   "cell_type": "code",
   "execution_count": 17,
   "metadata": {
    "collapsed": true
   },
   "outputs": [],
   "source": [
    "# feature bio words \n",
    "df_users['bio_words'] = df_users['author_bio'].apply(lambda x: bio_words(x))"
   ]
  },
  {
   "cell_type": "code",
   "execution_count": 18,
   "metadata": {},
   "outputs": [
    {
     "data": {
      "text/html": [
       "<div>\n",
       "<style>\n",
       "    .dataframe thead tr:only-child th {\n",
       "        text-align: right;\n",
       "    }\n",
       "\n",
       "    .dataframe thead th {\n",
       "        text-align: left;\n",
       "    }\n",
       "\n",
       "    .dataframe tbody tr th {\n",
       "        vertical-align: top;\n",
       "    }\n",
       "</style>\n",
       "<table border=\"1\" class=\"dataframe\">\n",
       "  <thead>\n",
       "    <tr style=\"text-align: right;\">\n",
       "      <th></th>\n",
       "      <th>author_name</th>\n",
       "      <th>author_bio</th>\n",
       "      <th>author_description</th>\n",
       "      <th>joined</th>\n",
       "      <th>favorite_authors</th>\n",
       "      <th>communities</th>\n",
       "      <th>my_stories</th>\n",
       "      <th>fav_stories</th>\n",
       "      <th>user_id</th>\n",
       "      <th>q_written</th>\n",
       "      <th>q_favs</th>\n",
       "      <th>q_fav_authors</th>\n",
       "      <th>bio_words</th>\n",
       "    </tr>\n",
       "  </thead>\n",
       "  <tbody>\n",
       "    <tr>\n",
       "      <th>2</th>\n",
       "      <td>St.Hoe</td>\n",
       "      <td>NaN</td>\n",
       "      <td>Author has written 1 story for Mutant X.</td>\n",
       "      <td>08-03-01</td>\n",
       "      <td>0</td>\n",
       "      <td>0</td>\n",
       "      <td>[651636]</td>\n",
       "      <td>[762593]</td>\n",
       "      <td>100001</td>\n",
       "      <td>1</td>\n",
       "      <td>1</td>\n",
       "      <td>0</td>\n",
       "      <td>0</td>\n",
       "    </tr>\n",
       "    <tr>\n",
       "      <th>13</th>\n",
       "      <td>WitchesRayvyn</td>\n",
       "      <td>Name: Rayvyn,Age: 29,Gender: Female,Orientatio...</td>\n",
       "      <td>Author has written 1 story for Sailor Moon.</td>\n",
       "      <td>08-03-01,06-12-13</td>\n",
       "      <td>[2324222, 499755, 1785440, 1149077, 440495, 21...</td>\n",
       "      <td>0</td>\n",
       "      <td>[6413390]</td>\n",
       "      <td>[4016930, 8980236, 5967445, 5178529, 3353749, ...</td>\n",
       "      <td>100012</td>\n",
       "      <td>1</td>\n",
       "      <td>15</td>\n",
       "      <td>11</td>\n",
       "      <td>2906</td>\n",
       "    </tr>\n",
       "    <tr>\n",
       "      <th>17</th>\n",
       "      <td>Insane Pineapple from Naboo</td>\n",
       "      <td>All stories with the exception of \"Complicatio...</td>\n",
       "      <td>Author has written 21 stories for Escaflowne, ...</td>\n",
       "      <td>08-03-01,06-19-09</td>\n",
       "      <td>[205600, 147795, 325897, 373182, 238577, 35165...</td>\n",
       "      <td>1</td>\n",
       "      <td>[807760, 5069100, 4264907, 1682924, 2407769, 2...</td>\n",
       "      <td>[1097925, 1260679, 1675750, 554557, 1452048, 1...</td>\n",
       "      <td>100016</td>\n",
       "      <td>21</td>\n",
       "      <td>23</td>\n",
       "      <td>18</td>\n",
       "      <td>641</td>\n",
       "    </tr>\n",
       "    <tr>\n",
       "      <th>28</th>\n",
       "      <td>alyaha</td>\n",
       "      <td>NaN</td>\n",
       "      <td>NaN</td>\n",
       "      <td>08-03-01</td>\n",
       "      <td>[2127848, 2749192, 848798, 1821063, 5138800, 7...</td>\n",
       "      <td>0</td>\n",
       "      <td>0</td>\n",
       "      <td>[12093371, 12453657, 12408672, 12363474, 12379...</td>\n",
       "      <td>100026</td>\n",
       "      <td>0</td>\n",
       "      <td>395</td>\n",
       "      <td>302</td>\n",
       "      <td>0</td>\n",
       "    </tr>\n",
       "    <tr>\n",
       "      <th>32</th>\n",
       "      <td>xelle</td>\n",
       "      <td>February 2002 -I've gone back to my old name, ...</td>\n",
       "      <td>NaN</td>\n",
       "      <td>05-10-00</td>\n",
       "      <td>[62055, 7790, 115697, 123967, 187747]</td>\n",
       "      <td>0</td>\n",
       "      <td>0</td>\n",
       "      <td>[760169, 1268287, 1004606, 961031, 680746, 408...</td>\n",
       "      <td>10003</td>\n",
       "      <td>0</td>\n",
       "      <td>7</td>\n",
       "      <td>5</td>\n",
       "      <td>544</td>\n",
       "    </tr>\n",
       "  </tbody>\n",
       "</table>\n",
       "</div>"
      ],
      "text/plain": [
       "                     author_name  \\\n",
       "2                         St.Hoe   \n",
       "13                 WitchesRayvyn   \n",
       "17   Insane Pineapple from Naboo   \n",
       "28                        alyaha   \n",
       "32                         xelle   \n",
       "\n",
       "                                           author_bio  \\\n",
       "2                                                 NaN   \n",
       "13  Name: Rayvyn,Age: 29,Gender: Female,Orientatio...   \n",
       "17  All stories with the exception of \"Complicatio...   \n",
       "28                                                NaN   \n",
       "32  February 2002 -I've gone back to my old name, ...   \n",
       "\n",
       "                                   author_description             joined  \\\n",
       "2            Author has written 1 story for Mutant X.           08-03-01   \n",
       "13        Author has written 1 story for Sailor Moon.  08-03-01,06-12-13   \n",
       "17  Author has written 21 stories for Escaflowne, ...  08-03-01,06-19-09   \n",
       "28                                                NaN           08-03-01   \n",
       "32                                                NaN           05-10-00   \n",
       "\n",
       "                                     favorite_authors  communities  \\\n",
       "2                                                   0            0   \n",
       "13  [2324222, 499755, 1785440, 1149077, 440495, 21...            0   \n",
       "17  [205600, 147795, 325897, 373182, 238577, 35165...            1   \n",
       "28  [2127848, 2749192, 848798, 1821063, 5138800, 7...            0   \n",
       "32              [62055, 7790, 115697, 123967, 187747]            0   \n",
       "\n",
       "                                           my_stories  \\\n",
       "2                                            [651636]   \n",
       "13                                          [6413390]   \n",
       "17  [807760, 5069100, 4264907, 1682924, 2407769, 2...   \n",
       "28                                                  0   \n",
       "32                                                  0   \n",
       "\n",
       "                                          fav_stories  user_id  q_written  \\\n",
       "2                                            [762593]   100001          1   \n",
       "13  [4016930, 8980236, 5967445, 5178529, 3353749, ...   100012          1   \n",
       "17  [1097925, 1260679, 1675750, 554557, 1452048, 1...   100016         21   \n",
       "28  [12093371, 12453657, 12408672, 12363474, 12379...   100026          0   \n",
       "32  [760169, 1268287, 1004606, 961031, 680746, 408...    10003          0   \n",
       "\n",
       "    q_favs  q_fav_authors  bio_words  \n",
       "2        1              0          0  \n",
       "13      15             11       2906  \n",
       "17      23             18        641  \n",
       "28     395            302          0  \n",
       "32       7              5        544  "
      ]
     },
     "execution_count": 18,
     "metadata": {},
     "output_type": "execute_result"
    }
   ],
   "source": [
    "df_users.head()"
   ]
  },
  {
   "cell_type": "code",
   "execution_count": 19,
   "metadata": {},
   "outputs": [],
   "source": [
    "# creamos df solo con los features de cada user \n",
    "df_features = df_users[['user_id', 'q_written', 'q_favs', 'q_fav_authors', 'bio_words', 'communities']]"
   ]
  },
  {
   "cell_type": "code",
   "execution_count": 20,
   "metadata": {
    "collapsed": true
   },
   "outputs": [],
   "source": [
    "# guardamos como csv de features del usuario \n",
    "df_features.to_csv('ff_user_features.csv', index = False)"
   ]
  },
  {
   "cell_type": "code",
   "execution_count": 21,
   "metadata": {
    "collapsed": true
   },
   "outputs": [],
   "source": [
    "df = pd.read_csv('ff_user_features.csv')"
   ]
  },
  {
   "cell_type": "code",
   "execution_count": null,
   "metadata": {},
   "outputs": [],
   "source": []
  },
  {
   "cell_type": "code",
   "execution_count": null,
   "metadata": {
    "collapsed": true
   },
   "outputs": [],
   "source": []
  }
 ],
 "metadata": {
  "kernelspec": {
   "display_name": "Python 3",
   "language": "python",
   "name": "python3"
  },
  "language_info": {
   "codemirror_mode": {
    "name": "ipython",
    "version": 3
   },
   "file_extension": ".py",
   "mimetype": "text/x-python",
   "name": "python",
   "nbconvert_exporter": "python",
   "pygments_lexer": "ipython3",
   "version": "3.6.1"
  }
 },
 "nbformat": 4,
 "nbformat_minor": 2
}
